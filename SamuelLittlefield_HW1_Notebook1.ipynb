{
 "cells": [
  {
   "cell_type": "markdown",
   "metadata": {},
   "source": [
    "  <b>Student</b>: Samuel Littlefield   \n",
    "  <b>Course</b>: BIA 6303   \n",
    "  <b>Assignment</b>: Homework Assignment #1 - Notebook #1  \n",
    "  <b>Due Date</b>: 11/13/2022 @ 11:59PM"
   ]
  },
  {
   "cell_type": "markdown",
   "metadata": {},
   "source": [
    "## Warm up on Pre-processing using Pandas, Matplotlib (and a little Scikit Learn)."
   ]
  },
  {
   "cell_type": "markdown",
   "metadata": {},
   "source": [
    "<font color='#2B3856'><b>1.</b> Read in AUTO.csv file into a data frame and call it Auto.</font>"
   ]
  },
  {
   "cell_type": "markdown",
   "metadata": {},
   "source": [
    "To begin this assignement we'll invoke the pandas library, use it to import the AUTO.csv from github, and then place this file into the data frame \"Auto\"."
   ]
  },
  {
   "cell_type": "code",
   "execution_count": 1,
   "metadata": {
    "tags": [
     "hide_code"
    ]
   },
   "outputs": [
    {
     "data": {
      "text/html": [
       "<div>\n",
       "<style scoped>\n",
       "    .dataframe tbody tr th:only-of-type {\n",
       "        vertical-align: middle;\n",
       "    }\n",
       "\n",
       "    .dataframe tbody tr th {\n",
       "        vertical-align: top;\n",
       "    }\n",
       "\n",
       "    .dataframe thead th {\n",
       "        text-align: right;\n",
       "    }\n",
       "</style>\n",
       "<table border=\"1\" class=\"dataframe\">\n",
       "  <thead>\n",
       "    <tr style=\"text-align: right;\">\n",
       "      <th></th>\n",
       "      <th>Name</th>\n",
       "      <th>Drive Type</th>\n",
       "      <th>Mileage (mpg)</th>\n",
       "      <th>Fuel Type</th>\n",
       "      <th>Capacity (gal)</th>\n",
       "      <th>Length (inches)</th>\n",
       "      <th>Wheel Base (inches)</th>\n",
       "      <th>Width (inches)</th>\n",
       "      <th>Turning Circle (feet)</th>\n",
       "      <th>Weight (lbs)</th>\n",
       "      <th>Door Top (inches)</th>\n",
       "      <th>Luggage (cu. ft.)</th>\n",
       "      <th>Front Shoulder (inches)</th>\n",
       "      <th>Front Leg Room (inches)</th>\n",
       "      <th>Front Head Room (inches)</th>\n",
       "      <th>Rear Shoulder (inches)</th>\n",
       "      <th>Rear Leg Room (inches)</th>\n",
       "      <th>Rear Head Room (inches)</th>\n",
       "    </tr>\n",
       "  </thead>\n",
       "  <tbody>\n",
       "    <tr>\n",
       "      <th>0</th>\n",
       "      <td>Acura Integra</td>\n",
       "      <td>Front</td>\n",
       "      <td>31.0</td>\n",
       "      <td>Regular</td>\n",
       "      <td>13.2</td>\n",
       "      <td>172.0</td>\n",
       "      <td>101.0</td>\n",
       "      <td>67.0</td>\n",
       "      <td>39.0</td>\n",
       "      <td>2,635</td>\n",
       "      <td>47.5</td>\n",
       "      <td>13.0</td>\n",
       "      <td>51.5</td>\n",
       "      <td>41.5</td>\n",
       "      <td>2.0</td>\n",
       "      <td>46.5</td>\n",
       "      <td>25.0</td>\n",
       "      <td>0.5</td>\n",
       "    </tr>\n",
       "    <tr>\n",
       "      <th>1</th>\n",
       "      <td>Acura TL</td>\n",
       "      <td>Front</td>\n",
       "      <td>22.0</td>\n",
       "      <td>Premium</td>\n",
       "      <td>17.1</td>\n",
       "      <td>193.0</td>\n",
       "      <td>108.0</td>\n",
       "      <td>70.0</td>\n",
       "      <td>40.0</td>\n",
       "      <td>3,460</td>\n",
       "      <td>50.0</td>\n",
       "      <td>14.0</td>\n",
       "      <td>56.0</td>\n",
       "      <td>40.5</td>\n",
       "      <td>2.5</td>\n",
       "      <td>55.0</td>\n",
       "      <td>27.0</td>\n",
       "      <td>2.0</td>\n",
       "    </tr>\n",
       "    <tr>\n",
       "      <th>2</th>\n",
       "      <td>Buick Century</td>\n",
       "      <td>Front</td>\n",
       "      <td>22.0</td>\n",
       "      <td>Regular</td>\n",
       "      <td>17.5</td>\n",
       "      <td>195.0</td>\n",
       "      <td>109.0</td>\n",
       "      <td>73.0</td>\n",
       "      <td>40.0</td>\n",
       "      <td>3,350</td>\n",
       "      <td>50.5</td>\n",
       "      <td>17.0</td>\n",
       "      <td>58.0</td>\n",
       "      <td>44.0</td>\n",
       "      <td>5.0</td>\n",
       "      <td>57.0</td>\n",
       "      <td>30.0</td>\n",
       "      <td>2.0</td>\n",
       "    </tr>\n",
       "    <tr>\n",
       "      <th>3</th>\n",
       "      <td>Buick LeSabre</td>\n",
       "      <td>Front</td>\n",
       "      <td>20.0</td>\n",
       "      <td>Regular</td>\n",
       "      <td>17.5</td>\n",
       "      <td>200.0</td>\n",
       "      <td>112.0</td>\n",
       "      <td>74.0</td>\n",
       "      <td>42.0</td>\n",
       "      <td>3,640</td>\n",
       "      <td>51.0</td>\n",
       "      <td>18.0</td>\n",
       "      <td>59.5</td>\n",
       "      <td>40.5</td>\n",
       "      <td>5.0</td>\n",
       "      <td>58.0</td>\n",
       "      <td>27.5</td>\n",
       "      <td>4.5</td>\n",
       "    </tr>\n",
       "    <tr>\n",
       "      <th>4</th>\n",
       "      <td>Buick Park Avenue</td>\n",
       "      <td>Front</td>\n",
       "      <td>21.0</td>\n",
       "      <td>Regular</td>\n",
       "      <td>18.5</td>\n",
       "      <td>207.0</td>\n",
       "      <td>114.0</td>\n",
       "      <td>75.0</td>\n",
       "      <td>43.0</td>\n",
       "      <td>3,880</td>\n",
       "      <td>51.0</td>\n",
       "      <td>19.0</td>\n",
       "      <td>59.5</td>\n",
       "      <td>42.5</td>\n",
       "      <td>6.0</td>\n",
       "      <td>58.5</td>\n",
       "      <td>31.5</td>\n",
       "      <td>3.0</td>\n",
       "    </tr>\n",
       "  </tbody>\n",
       "</table>\n",
       "</div>"
      ],
      "text/plain": [
       "                Name Drive Type  Mileage (mpg) Fuel Type  Capacity (gal)  \\\n",
       "0      Acura Integra      Front           31.0   Regular            13.2   \n",
       "1           Acura TL      Front           22.0   Premium            17.1   \n",
       "2      Buick Century      Front           22.0   Regular            17.5   \n",
       "3      Buick LeSabre      Front           20.0   Regular            17.5   \n",
       "4  Buick Park Avenue      Front           21.0   Regular            18.5   \n",
       "\n",
       "   Length (inches)  Wheel Base (inches)  Width (inches)  \\\n",
       "0            172.0                101.0            67.0   \n",
       "1            193.0                108.0            70.0   \n",
       "2            195.0                109.0            73.0   \n",
       "3            200.0                112.0            74.0   \n",
       "4            207.0                114.0            75.0   \n",
       "\n",
       "   Turning Circle (feet) Weight (lbs)  Door Top (inches)  Luggage (cu. ft.)  \\\n",
       "0                   39.0        2,635               47.5               13.0   \n",
       "1                   40.0        3,460               50.0               14.0   \n",
       "2                   40.0        3,350               50.5               17.0   \n",
       "3                   42.0        3,640               51.0               18.0   \n",
       "4                   43.0        3,880               51.0               19.0   \n",
       "\n",
       "   Front Shoulder (inches)  Front Leg Room (inches)  Front Head Room (inches)  \\\n",
       "0                     51.5                     41.5                       2.0   \n",
       "1                     56.0                     40.5                       2.5   \n",
       "2                     58.0                     44.0                       5.0   \n",
       "3                     59.5                     40.5                       5.0   \n",
       "4                     59.5                     42.5                       6.0   \n",
       "\n",
       "   Rear Shoulder (inches)  Rear Leg Room (inches)  Rear Head Room (inches)  \n",
       "0                    46.5                    25.0                      0.5  \n",
       "1                    55.0                    27.0                      2.0  \n",
       "2                    57.0                    30.0                      2.0  \n",
       "3                    58.0                    27.5                      4.5  \n",
       "4                    58.5                    31.5                      3.0  "
      ]
     },
     "execution_count": 1,
     "metadata": {},
     "output_type": "execute_result"
    }
   ],
   "source": [
    "# invoke the pandas library and alias as 'pd'\n",
    "import pandas as pd\n",
    "\n",
    "# set the url to the AUTO.csv file on github into a variable\n",
    "url = \"https://raw.githubusercontent.com/samuel-littlefield/BIA-6303_Assignments/main/AUTO.csv\"\n",
    "\n",
    "# use pandas to read in the AUTO.csv file and name the data frame 'Auto'\n",
    "Auto = pd.read_csv(url, index_col=None, header=0, encoding='latin-1')\n",
    "\n",
    "# use the head function to display the first five rows of data\n",
    "Auto.head()"
   ]
  },
  {
   "cell_type": "markdown",
   "metadata": {},
   "source": [
    "Since the output displayed without any noticable errors, this indicates the data was read in correctly."
   ]
  },
  {
   "cell_type": "markdown",
   "metadata": {},
   "source": [
    "<font color='#2B3856'><b>2.</b> Replace any missing values with the median value of the variable (feature).</font>"
   ]
  },
  {
   "cell_type": "markdown",
   "metadata": {},
   "source": [
    "First, we'll need to determine if there are any missing values and if so, locate where that data is missing. We'll start this process by inspecting the data types of each column and what data is contained in each of those columns. Having the correct data types ensures that our functions are preforming as expected, as certain data types will behave differently than others."
   ]
  },
  {
   "cell_type": "code",
   "execution_count": 2,
   "metadata": {},
   "outputs": [
    {
     "name": "stdout",
     "output_type": "stream",
     "text": [
      "<class 'pandas.core.frame.DataFrame'>\n",
      "RangeIndex: 190 entries, 0 to 189\n",
      "Data columns (total 18 columns):\n",
      " #   Column                    Non-Null Count  Dtype  \n",
      "---  ------                    --------------  -----  \n",
      " 0   Name                      106 non-null    object \n",
      " 1   Drive Type                106 non-null    object \n",
      " 2   Mileage (mpg)             106 non-null    float64\n",
      " 3   Fuel Type                 106 non-null    object \n",
      " 4   Capacity (gal)            106 non-null    float64\n",
      " 5   Length (inches)           106 non-null    float64\n",
      " 6   Wheel Base (inches)       106 non-null    float64\n",
      " 7   Width (inches)            106 non-null    float64\n",
      " 8   Turning Circle (feet)     106 non-null    float64\n",
      " 9   Weight (lbs)              106 non-null    object \n",
      " 10  Door Top (inches)         106 non-null    float64\n",
      " 11  Luggage (cu. ft.)         104 non-null    float64\n",
      " 12  Front Shoulder (inches)   106 non-null    float64\n",
      " 13  Front Leg Room (inches)   106 non-null    float64\n",
      " 14  Front Head Room (inches)  106 non-null    float64\n",
      " 15  Rear Shoulder (inches)    106 non-null    float64\n",
      " 16  Rear Leg Room (inches)    106 non-null    float64\n",
      " 17  Rear Head Room (inches)   106 non-null    float64\n",
      "dtypes: float64(14), object(4)\n",
      "memory usage: 26.8+ KB\n"
     ]
    }
   ],
   "source": [
    "# get info on the Auto data frame\n",
    "Auto.info()"
   ]
  },
  {
   "cell_type": "markdown",
   "metadata": {},
   "source": [
    "From the output, there are two issues which can be seen that may point to missing values.\n",
    "\n",
    "- The RangeIndex states there are 190 entries, yet the \"Non-Null Count\" for each column is only 106. This suggests there may be null rows which were read in with our data frame.\n",
    "- In the column \"Non-Null Count\", all columns have a value of 106 with the exception of Luggage (cu. ft.) which has 104.\n",
    "\n",
    "Let's start by investigating the disparity between 190 entries and 106 values. We'll take a look at the tail of our data frame first to see if there were blank rows at the end of our csv.\n",
    "\n",
    "<b>NOTE</b>: We can also observe that Weight (lbs) is the datatype 'object', this will need to be corrected in a future step."
   ]
  },
  {
   "cell_type": "code",
   "execution_count": 3,
   "metadata": {
    "scrolled": true
   },
   "outputs": [
    {
     "data": {
      "text/html": [
       "<div>\n",
       "<style scoped>\n",
       "    .dataframe tbody tr th:only-of-type {\n",
       "        vertical-align: middle;\n",
       "    }\n",
       "\n",
       "    .dataframe tbody tr th {\n",
       "        vertical-align: top;\n",
       "    }\n",
       "\n",
       "    .dataframe thead th {\n",
       "        text-align: right;\n",
       "    }\n",
       "</style>\n",
       "<table border=\"1\" class=\"dataframe\">\n",
       "  <thead>\n",
       "    <tr style=\"text-align: right;\">\n",
       "      <th></th>\n",
       "      <th>Name</th>\n",
       "      <th>Drive Type</th>\n",
       "      <th>Mileage (mpg)</th>\n",
       "      <th>Fuel Type</th>\n",
       "      <th>Capacity (gal)</th>\n",
       "      <th>Length (inches)</th>\n",
       "      <th>Wheel Base (inches)</th>\n",
       "      <th>Width (inches)</th>\n",
       "      <th>Turning Circle (feet)</th>\n",
       "      <th>Weight (lbs)</th>\n",
       "      <th>Door Top (inches)</th>\n",
       "      <th>Luggage (cu. ft.)</th>\n",
       "      <th>Front Shoulder (inches)</th>\n",
       "      <th>Front Leg Room (inches)</th>\n",
       "      <th>Front Head Room (inches)</th>\n",
       "      <th>Rear Shoulder (inches)</th>\n",
       "      <th>Rear Leg Room (inches)</th>\n",
       "      <th>Rear Head Room (inches)</th>\n",
       "    </tr>\n",
       "  </thead>\n",
       "  <tbody>\n",
       "    <tr>\n",
       "      <th>185</th>\n",
       "      <td>NaN</td>\n",
       "      <td>NaN</td>\n",
       "      <td>NaN</td>\n",
       "      <td>NaN</td>\n",
       "      <td>NaN</td>\n",
       "      <td>NaN</td>\n",
       "      <td>NaN</td>\n",
       "      <td>NaN</td>\n",
       "      <td>NaN</td>\n",
       "      <td>NaN</td>\n",
       "      <td>NaN</td>\n",
       "      <td>NaN</td>\n",
       "      <td>NaN</td>\n",
       "      <td>NaN</td>\n",
       "      <td>NaN</td>\n",
       "      <td>NaN</td>\n",
       "      <td>NaN</td>\n",
       "      <td>NaN</td>\n",
       "    </tr>\n",
       "    <tr>\n",
       "      <th>186</th>\n",
       "      <td>NaN</td>\n",
       "      <td>NaN</td>\n",
       "      <td>NaN</td>\n",
       "      <td>NaN</td>\n",
       "      <td>NaN</td>\n",
       "      <td>NaN</td>\n",
       "      <td>NaN</td>\n",
       "      <td>NaN</td>\n",
       "      <td>NaN</td>\n",
       "      <td>NaN</td>\n",
       "      <td>NaN</td>\n",
       "      <td>NaN</td>\n",
       "      <td>NaN</td>\n",
       "      <td>NaN</td>\n",
       "      <td>NaN</td>\n",
       "      <td>NaN</td>\n",
       "      <td>NaN</td>\n",
       "      <td>NaN</td>\n",
       "    </tr>\n",
       "    <tr>\n",
       "      <th>187</th>\n",
       "      <td>NaN</td>\n",
       "      <td>NaN</td>\n",
       "      <td>NaN</td>\n",
       "      <td>NaN</td>\n",
       "      <td>NaN</td>\n",
       "      <td>NaN</td>\n",
       "      <td>NaN</td>\n",
       "      <td>NaN</td>\n",
       "      <td>NaN</td>\n",
       "      <td>NaN</td>\n",
       "      <td>NaN</td>\n",
       "      <td>NaN</td>\n",
       "      <td>NaN</td>\n",
       "      <td>NaN</td>\n",
       "      <td>NaN</td>\n",
       "      <td>NaN</td>\n",
       "      <td>NaN</td>\n",
       "      <td>NaN</td>\n",
       "    </tr>\n",
       "    <tr>\n",
       "      <th>188</th>\n",
       "      <td>NaN</td>\n",
       "      <td>NaN</td>\n",
       "      <td>NaN</td>\n",
       "      <td>NaN</td>\n",
       "      <td>NaN</td>\n",
       "      <td>NaN</td>\n",
       "      <td>NaN</td>\n",
       "      <td>NaN</td>\n",
       "      <td>NaN</td>\n",
       "      <td>NaN</td>\n",
       "      <td>NaN</td>\n",
       "      <td>NaN</td>\n",
       "      <td>NaN</td>\n",
       "      <td>NaN</td>\n",
       "      <td>NaN</td>\n",
       "      <td>NaN</td>\n",
       "      <td>NaN</td>\n",
       "      <td>NaN</td>\n",
       "    </tr>\n",
       "    <tr>\n",
       "      <th>189</th>\n",
       "      <td>NaN</td>\n",
       "      <td>NaN</td>\n",
       "      <td>NaN</td>\n",
       "      <td>NaN</td>\n",
       "      <td>NaN</td>\n",
       "      <td>NaN</td>\n",
       "      <td>NaN</td>\n",
       "      <td>NaN</td>\n",
       "      <td>NaN</td>\n",
       "      <td>NaN</td>\n",
       "      <td>NaN</td>\n",
       "      <td>NaN</td>\n",
       "      <td>NaN</td>\n",
       "      <td>NaN</td>\n",
       "      <td>NaN</td>\n",
       "      <td>NaN</td>\n",
       "      <td>NaN</td>\n",
       "      <td>NaN</td>\n",
       "    </tr>\n",
       "  </tbody>\n",
       "</table>\n",
       "</div>"
      ],
      "text/plain": [
       "    Name Drive Type  Mileage (mpg) Fuel Type  Capacity (gal)  Length (inches)  \\\n",
       "185  NaN        NaN            NaN       NaN             NaN              NaN   \n",
       "186  NaN        NaN            NaN       NaN             NaN              NaN   \n",
       "187  NaN        NaN            NaN       NaN             NaN              NaN   \n",
       "188  NaN        NaN            NaN       NaN             NaN              NaN   \n",
       "189  NaN        NaN            NaN       NaN             NaN              NaN   \n",
       "\n",
       "     Wheel Base (inches)  Width (inches)  Turning Circle (feet) Weight (lbs)  \\\n",
       "185                  NaN             NaN                    NaN          NaN   \n",
       "186                  NaN             NaN                    NaN          NaN   \n",
       "187                  NaN             NaN                    NaN          NaN   \n",
       "188                  NaN             NaN                    NaN          NaN   \n",
       "189                  NaN             NaN                    NaN          NaN   \n",
       "\n",
       "     Door Top (inches)  Luggage (cu. ft.)  Front Shoulder (inches)  \\\n",
       "185                NaN                NaN                      NaN   \n",
       "186                NaN                NaN                      NaN   \n",
       "187                NaN                NaN                      NaN   \n",
       "188                NaN                NaN                      NaN   \n",
       "189                NaN                NaN                      NaN   \n",
       "\n",
       "     Front Leg Room (inches)  Front Head Room (inches)  \\\n",
       "185                      NaN                       NaN   \n",
       "186                      NaN                       NaN   \n",
       "187                      NaN                       NaN   \n",
       "188                      NaN                       NaN   \n",
       "189                      NaN                       NaN   \n",
       "\n",
       "     Rear Shoulder (inches)  Rear Leg Room (inches)  Rear Head Room (inches)  \n",
       "185                     NaN                     NaN                      NaN  \n",
       "186                     NaN                     NaN                      NaN  \n",
       "187                     NaN                     NaN                      NaN  \n",
       "188                     NaN                     NaN                      NaN  \n",
       "189                     NaN                     NaN                      NaN  "
      ]
     },
     "execution_count": 3,
     "metadata": {},
     "output_type": "execute_result"
    }
   ],
   "source": [
    "# use the tail function to display the last five rows of data\n",
    "Auto.tail()"
   ]
  },
  {
   "cell_type": "markdown",
   "metadata": {},
   "source": [
    "The output confirms the suspicion of bringing in blank rows from our csv. Since we know the task is to \"<em>Replace any missing values with the median value of the variable (feature)</em>\", it's important to note that we can't do this for categorical variables such as the name of each Auto. Because of this, we'll need to remove blank rows without also risking the lost of the two rows were a value for Luggage (cu. ft.) is missing, we'll create a subset of our Auto data frame where the feature Name is not blank."
   ]
  },
  {
   "cell_type": "code",
   "execution_count": 4,
   "metadata": {},
   "outputs": [],
   "source": [
    "# create subset of the Auto data frame where Name is not na\n",
    "Auto_Subset = Auto[Auto['Name'].notna()]"
   ]
  },
  {
   "cell_type": "markdown",
   "metadata": {},
   "source": [
    "Next we'll verify that Auto_Subset no longer contains blank rows."
   ]
  },
  {
   "cell_type": "code",
   "execution_count": 5,
   "metadata": {},
   "outputs": [
    {
     "data": {
      "text/plain": [
       "Name                        106\n",
       "Drive Type                  106\n",
       "Mileage (mpg)               106\n",
       "Fuel Type                   106\n",
       "Capacity (gal)              106\n",
       "Length (inches)             106\n",
       "Wheel Base (inches)         106\n",
       "Width (inches)              106\n",
       "Turning Circle (feet)       106\n",
       "Weight (lbs)                106\n",
       "Door Top (inches)           106\n",
       "Luggage (cu. ft.)           104\n",
       "Front Shoulder (inches)     106\n",
       "Front Leg Room (inches)     106\n",
       "Front Head Room (inches)    106\n",
       "Rear Shoulder (inches)      106\n",
       "Rear Leg Room (inches)      106\n",
       "Rear Head Room (inches)     106\n",
       "dtype: int64"
      ]
     },
     "execution_count": 5,
     "metadata": {},
     "output_type": "execute_result"
    }
   ],
   "source": [
    "# count non blank values in each variable\n",
    "Auto_Subset[Auto_Subset['Name'].isna() == False].count()"
   ]
  },
  {
   "cell_type": "markdown",
   "metadata": {},
   "source": [
    "From this output we call observe that each variable has 106 non-na values with the exception of Luggage (cu. ft.) which we previously determined has two additional na values. This confirms that our fix removed all blank rows while preserving these two rows.\n",
    "\n",
    "We'll now replace the Auto data frame with our subset."
   ]
  },
  {
   "cell_type": "code",
   "execution_count": 6,
   "metadata": {},
   "outputs": [],
   "source": [
    "# replace the Auto data frame\n",
    "Auto = Auto_Subset"
   ]
  },
  {
   "cell_type": "markdown",
   "metadata": {},
   "source": [
    "Next, let's locate where the na values are in the Luggage (cu. ft.) variable."
   ]
  },
  {
   "cell_type": "code",
   "execution_count": 7,
   "metadata": {
    "scrolled": true
   },
   "outputs": [
    {
     "data": {
      "text/html": [
       "<div>\n",
       "<style scoped>\n",
       "    .dataframe tbody tr th:only-of-type {\n",
       "        vertical-align: middle;\n",
       "    }\n",
       "\n",
       "    .dataframe tbody tr th {\n",
       "        vertical-align: top;\n",
       "    }\n",
       "\n",
       "    .dataframe thead th {\n",
       "        text-align: right;\n",
       "    }\n",
       "</style>\n",
       "<table border=\"1\" class=\"dataframe\">\n",
       "  <thead>\n",
       "    <tr style=\"text-align: right;\">\n",
       "      <th></th>\n",
       "      <th>Name</th>\n",
       "      <th>Drive Type</th>\n",
       "      <th>Mileage (mpg)</th>\n",
       "      <th>Fuel Type</th>\n",
       "      <th>Capacity (gal)</th>\n",
       "      <th>Length (inches)</th>\n",
       "      <th>Wheel Base (inches)</th>\n",
       "      <th>Width (inches)</th>\n",
       "      <th>Turning Circle (feet)</th>\n",
       "      <th>Weight (lbs)</th>\n",
       "      <th>Door Top (inches)</th>\n",
       "      <th>Luggage (cu. ft.)</th>\n",
       "      <th>Front Shoulder (inches)</th>\n",
       "      <th>Front Leg Room (inches)</th>\n",
       "      <th>Front Head Room (inches)</th>\n",
       "      <th>Rear Shoulder (inches)</th>\n",
       "      <th>Rear Leg Room (inches)</th>\n",
       "      <th>Rear Head Room (inches)</th>\n",
       "    </tr>\n",
       "  </thead>\n",
       "  <tbody>\n",
       "    <tr>\n",
       "      <th>87</th>\n",
       "      <td>Ford F-150</td>\n",
       "      <td>Rear</td>\n",
       "      <td>15.0</td>\n",
       "      <td>Regular</td>\n",
       "      <td>25.0</td>\n",
       "      <td>226.0</td>\n",
       "      <td>139.0</td>\n",
       "      <td>80.0</td>\n",
       "      <td>49.0</td>\n",
       "      <td>5,210</td>\n",
       "      <td>70.5</td>\n",
       "      <td>NaN</td>\n",
       "      <td>63.5</td>\n",
       "      <td>42.0</td>\n",
       "      <td>7.0</td>\n",
       "      <td>60.0</td>\n",
       "      <td>24.5</td>\n",
       "      <td>2.5</td>\n",
       "    </tr>\n",
       "    <tr>\n",
       "      <th>88</th>\n",
       "      <td>Ford Ranger</td>\n",
       "      <td>Rear</td>\n",
       "      <td>18.0</td>\n",
       "      <td>Regular</td>\n",
       "      <td>20.0</td>\n",
       "      <td>202.0</td>\n",
       "      <td>126.0</td>\n",
       "      <td>70.0</td>\n",
       "      <td>45.0</td>\n",
       "      <td>3,870</td>\n",
       "      <td>60.0</td>\n",
       "      <td>NaN</td>\n",
       "      <td>54.0</td>\n",
       "      <td>42.5</td>\n",
       "      <td>5.0</td>\n",
       "      <td>18.0</td>\n",
       "      <td>22.5</td>\n",
       "      <td>2.0</td>\n",
       "    </tr>\n",
       "  </tbody>\n",
       "</table>\n",
       "</div>"
      ],
      "text/plain": [
       "           Name Drive Type  Mileage (mpg) Fuel Type  Capacity (gal)  \\\n",
       "87   Ford F-150       Rear           15.0   Regular            25.0   \n",
       "88  Ford Ranger       Rear           18.0   Regular            20.0   \n",
       "\n",
       "    Length (inches)  Wheel Base (inches)  Width (inches)  \\\n",
       "87            226.0                139.0            80.0   \n",
       "88            202.0                126.0            70.0   \n",
       "\n",
       "    Turning Circle (feet) Weight (lbs)  Door Top (inches)  Luggage (cu. ft.)  \\\n",
       "87                   49.0        5,210               70.5                NaN   \n",
       "88                   45.0        3,870               60.0                NaN   \n",
       "\n",
       "    Front Shoulder (inches)  Front Leg Room (inches)  \\\n",
       "87                     63.5                     42.0   \n",
       "88                     54.0                     42.5   \n",
       "\n",
       "    Front Head Room (inches)  Rear Shoulder (inches)  Rear Leg Room (inches)  \\\n",
       "87                       7.0                    60.0                    24.5   \n",
       "88                       5.0                    18.0                    22.5   \n",
       "\n",
       "    Rear Head Room (inches)  \n",
       "87                      2.5  \n",
       "88                      2.0  "
      ]
     },
     "execution_count": 7,
     "metadata": {},
     "output_type": "execute_result"
    }
   ],
   "source": [
    "# filter Auto data frame to records where Luggage is NaN\n",
    "Auto[Auto['Luggage (cu. ft.)'].isna()]"
   ]
  },
  {
   "cell_type": "markdown",
   "metadata": {},
   "source": [
    "It appears Luggage (cu. ft.) is missing in rows 87 and 88. Let's now check the median of Luggage (cu. ft.)."
   ]
  },
  {
   "cell_type": "code",
   "execution_count": 8,
   "metadata": {},
   "outputs": [
    {
     "data": {
      "text/plain": [
       "16.0"
      ]
     },
     "execution_count": 8,
     "metadata": {},
     "output_type": "execute_result"
    }
   ],
   "source": [
    "# median value of Luggage\n",
    "Auto['Luggage (cu. ft.)'].median()"
   ]
  },
  {
   "cell_type": "markdown",
   "metadata": {},
   "source": [
    "While we shouldn't have concerns that the NaN values are influencing the median, we can varify this out of causion."
   ]
  },
  {
   "cell_type": "code",
   "execution_count": 9,
   "metadata": {},
   "outputs": [
    {
     "data": {
      "text/plain": [
       "16.0"
      ]
     },
     "execution_count": 9,
     "metadata": {},
     "output_type": "execute_result"
    }
   ],
   "source": [
    "# median value of Luggage excluding NA values\n",
    "Auto['Luggage (cu. ft.)'][Auto['Luggage (cu. ft.)'].notna()].median()"
   ]
  },
  {
   "cell_type": "markdown",
   "metadata": {},
   "source": [
    "From the output we can observe that the median is 16.0 cu. ft. and is not influenced by that NaN values. We can now replace these missing values with the median."
   ]
  },
  {
   "cell_type": "code",
   "execution_count": 10,
   "metadata": {},
   "outputs": [],
   "source": [
    "# replace missing values with median\n",
    "Auto['Luggage (cu. ft.)'][Auto['Luggage (cu. ft.)'].isna()] = Auto['Luggage (cu. ft.)'].median()"
   ]
  },
  {
   "cell_type": "markdown",
   "metadata": {},
   "source": [
    "Since we know the missing values were in rows 87 and 88, let's take another look at these rows to confirm that the value of Luggage (cu. ft.) is now 16.0 for these two rows."
   ]
  },
  {
   "cell_type": "code",
   "execution_count": 11,
   "metadata": {},
   "outputs": [
    {
     "data": {
      "text/html": [
       "<div>\n",
       "<style scoped>\n",
       "    .dataframe tbody tr th:only-of-type {\n",
       "        vertical-align: middle;\n",
       "    }\n",
       "\n",
       "    .dataframe tbody tr th {\n",
       "        vertical-align: top;\n",
       "    }\n",
       "\n",
       "    .dataframe thead th {\n",
       "        text-align: right;\n",
       "    }\n",
       "</style>\n",
       "<table border=\"1\" class=\"dataframe\">\n",
       "  <thead>\n",
       "    <tr style=\"text-align: right;\">\n",
       "      <th></th>\n",
       "      <th>Name</th>\n",
       "      <th>Drive Type</th>\n",
       "      <th>Mileage (mpg)</th>\n",
       "      <th>Fuel Type</th>\n",
       "      <th>Capacity (gal)</th>\n",
       "      <th>Length (inches)</th>\n",
       "      <th>Wheel Base (inches)</th>\n",
       "      <th>Width (inches)</th>\n",
       "      <th>Turning Circle (feet)</th>\n",
       "      <th>Weight (lbs)</th>\n",
       "      <th>Door Top (inches)</th>\n",
       "      <th>Luggage (cu. ft.)</th>\n",
       "      <th>Front Shoulder (inches)</th>\n",
       "      <th>Front Leg Room (inches)</th>\n",
       "      <th>Front Head Room (inches)</th>\n",
       "      <th>Rear Shoulder (inches)</th>\n",
       "      <th>Rear Leg Room (inches)</th>\n",
       "      <th>Rear Head Room (inches)</th>\n",
       "    </tr>\n",
       "  </thead>\n",
       "  <tbody>\n",
       "    <tr>\n",
       "      <th>87</th>\n",
       "      <td>Ford F-150</td>\n",
       "      <td>Rear</td>\n",
       "      <td>15.0</td>\n",
       "      <td>Regular</td>\n",
       "      <td>25.0</td>\n",
       "      <td>226.0</td>\n",
       "      <td>139.0</td>\n",
       "      <td>80.0</td>\n",
       "      <td>49.0</td>\n",
       "      <td>5,210</td>\n",
       "      <td>70.5</td>\n",
       "      <td>16.0</td>\n",
       "      <td>63.5</td>\n",
       "      <td>42.0</td>\n",
       "      <td>7.0</td>\n",
       "      <td>60.0</td>\n",
       "      <td>24.5</td>\n",
       "      <td>2.5</td>\n",
       "    </tr>\n",
       "    <tr>\n",
       "      <th>88</th>\n",
       "      <td>Ford Ranger</td>\n",
       "      <td>Rear</td>\n",
       "      <td>18.0</td>\n",
       "      <td>Regular</td>\n",
       "      <td>20.0</td>\n",
       "      <td>202.0</td>\n",
       "      <td>126.0</td>\n",
       "      <td>70.0</td>\n",
       "      <td>45.0</td>\n",
       "      <td>3,870</td>\n",
       "      <td>60.0</td>\n",
       "      <td>16.0</td>\n",
       "      <td>54.0</td>\n",
       "      <td>42.5</td>\n",
       "      <td>5.0</td>\n",
       "      <td>18.0</td>\n",
       "      <td>22.5</td>\n",
       "      <td>2.0</td>\n",
       "    </tr>\n",
       "  </tbody>\n",
       "</table>\n",
       "</div>"
      ],
      "text/plain": [
       "           Name Drive Type  Mileage (mpg) Fuel Type  Capacity (gal)  \\\n",
       "87   Ford F-150       Rear           15.0   Regular            25.0   \n",
       "88  Ford Ranger       Rear           18.0   Regular            20.0   \n",
       "\n",
       "    Length (inches)  Wheel Base (inches)  Width (inches)  \\\n",
       "87            226.0                139.0            80.0   \n",
       "88            202.0                126.0            70.0   \n",
       "\n",
       "    Turning Circle (feet) Weight (lbs)  Door Top (inches)  Luggage (cu. ft.)  \\\n",
       "87                   49.0        5,210               70.5               16.0   \n",
       "88                   45.0        3,870               60.0               16.0   \n",
       "\n",
       "    Front Shoulder (inches)  Front Leg Room (inches)  \\\n",
       "87                     63.5                     42.0   \n",
       "88                     54.0                     42.5   \n",
       "\n",
       "    Front Head Room (inches)  Rear Shoulder (inches)  Rear Leg Room (inches)  \\\n",
       "87                       7.0                    60.0                    24.5   \n",
       "88                       5.0                    18.0                    22.5   \n",
       "\n",
       "    Rear Head Room (inches)  \n",
       "87                      2.5  \n",
       "88                      2.0  "
      ]
     },
     "execution_count": 11,
     "metadata": {},
     "output_type": "execute_result"
    }
   ],
   "source": [
    "# display records 87 and 89\n",
    "Auto.iloc[87:89]"
   ]
  },
  {
   "cell_type": "markdown",
   "metadata": {},
   "source": [
    "In viewing the output of rows 87 and 88, we can confirm that the value for Luggage (cu. ft.) is now 16.0."
   ]
  },
  {
   "cell_type": "markdown",
   "metadata": {},
   "source": [
    "<font color='#2B3856'><b>3.</b> Explore the general characteristics of the data, by computing the means and standard deviations of the numerical attributes, as well as the distributions of “drive type” and “fuel type” (both are categorical). You can do this for each individual variable separately or a function to compute for the entire data frame (or both).</font>"
   ]
  },
  {
   "cell_type": "markdown",
   "metadata": {},
   "source": [
    "Before we begin this step, if we recall back to the note previously mentioned regarding the Weight (lbs) variable it's important that we recove that issue before moving forwards. If we look at the previous output, we can see that the value of Weight (lbs) for row 87 is \"5,210\". The presense of thousands seperator is likely what caused pandas to read this varible as a non-numeric datatype. We will remove the thousands seperator and convert this variable to a numeric datatype."
   ]
  },
  {
   "cell_type": "code",
   "execution_count": 12,
   "metadata": {},
   "outputs": [
    {
     "data": {
      "text/plain": [
       "0      2635\n",
       "1      3460\n",
       "2      3350\n",
       "3      3640\n",
       "4      3880\n",
       "       ... \n",
       "101    3230\n",
       "102    3055\n",
       "103    5290\n",
       "104    3935\n",
       "105    5850\n",
       "Name: Weight (lbs), Length: 106, dtype: int64"
      ]
     },
     "execution_count": 12,
     "metadata": {},
     "output_type": "execute_result"
    }
   ],
   "source": [
    "# remove the thousands seperator\n",
    "Auto[\"Weight (lbs)\"] = Auto[\"Weight (lbs)\"].str.replace(',','')\n",
    "\n",
    "# convert variable to numeric datatype\n",
    "Auto[\"Weight (lbs)\"] = pd.to_numeric(Auto[\"Weight (lbs)\"])\n",
    "\n",
    "# display head and tail to inspect update\n",
    "Auto[\"Weight (lbs)\"]"
   ]
  },
  {
   "cell_type": "markdown",
   "metadata": {},
   "source": [
    "In the previous update, we can see from the head and tail of the dataset the thousands seperator has been removed and that the datatype is now numeric (notated by dytype: int64).\n",
    "\n",
    "We'll now look at the means and standard diviations of all numeric variables."
   ]
  },
  {
   "cell_type": "code",
   "execution_count": 13,
   "metadata": {},
   "outputs": [
    {
     "data": {
      "text/html": [
       "<div>\n",
       "<style scoped>\n",
       "    .dataframe tbody tr th:only-of-type {\n",
       "        vertical-align: middle;\n",
       "    }\n",
       "\n",
       "    .dataframe tbody tr th {\n",
       "        vertical-align: top;\n",
       "    }\n",
       "\n",
       "    .dataframe thead th {\n",
       "        text-align: right;\n",
       "    }\n",
       "</style>\n",
       "<table border=\"1\" class=\"dataframe\">\n",
       "  <thead>\n",
       "    <tr style=\"text-align: right;\">\n",
       "      <th></th>\n",
       "      <th>Mileage (mpg)</th>\n",
       "      <th>Capacity (gal)</th>\n",
       "      <th>Length (inches)</th>\n",
       "      <th>Wheel Base (inches)</th>\n",
       "      <th>Width (inches)</th>\n",
       "      <th>Turning Circle (feet)</th>\n",
       "      <th>Weight (lbs)</th>\n",
       "      <th>Door Top (inches)</th>\n",
       "      <th>Luggage (cu. ft.)</th>\n",
       "      <th>Front Shoulder (inches)</th>\n",
       "      <th>Front Leg Room (inches)</th>\n",
       "      <th>Front Head Room (inches)</th>\n",
       "      <th>Rear Shoulder (inches)</th>\n",
       "      <th>Rear Leg Room (inches)</th>\n",
       "      <th>Rear Head Room (inches)</th>\n",
       "    </tr>\n",
       "  </thead>\n",
       "  <tbody>\n",
       "    <tr>\n",
       "      <th>count</th>\n",
       "      <td>106.0000</td>\n",
       "      <td>106.0000</td>\n",
       "      <td>106.0000</td>\n",
       "      <td>106.0000</td>\n",
       "      <td>106.0000</td>\n",
       "      <td>106.0000</td>\n",
       "      <td>106.0000</td>\n",
       "      <td>106.0000</td>\n",
       "      <td>106.0000</td>\n",
       "      <td>106.0000</td>\n",
       "      <td>106.0000</td>\n",
       "      <td>106.0000</td>\n",
       "      <td>106.0000</td>\n",
       "      <td>106.0000</td>\n",
       "      <td>106.0000</td>\n",
       "    </tr>\n",
       "    <tr>\n",
       "      <th>mean</th>\n",
       "      <td>21.2925</td>\n",
       "      <td>17.8830</td>\n",
       "      <td>187.5943</td>\n",
       "      <td>107.6321</td>\n",
       "      <td>70.9151</td>\n",
       "      <td>39.8491</td>\n",
       "      <td>3502.3113</td>\n",
       "      <td>53.8915</td>\n",
       "      <td>25.0566</td>\n",
       "      <td>56.4717</td>\n",
       "      <td>41.2547</td>\n",
       "      <td>4.2877</td>\n",
       "      <td>54.7453</td>\n",
       "      <td>28.3632</td>\n",
       "      <td>3.0236</td>\n",
       "    </tr>\n",
       "    <tr>\n",
       "      <th>std</th>\n",
       "      <td>3.7695</td>\n",
       "      <td>3.4257</td>\n",
       "      <td>12.4936</td>\n",
       "      <td>7.0147</td>\n",
       "      <td>3.2370</td>\n",
       "      <td>2.7973</td>\n",
       "      <td>633.4539</td>\n",
       "      <td>5.7475</td>\n",
       "      <td>18.2355</td>\n",
       "      <td>3.0416</td>\n",
       "      <td>1.0218</td>\n",
       "      <td>1.2798</td>\n",
       "      <td>7.1104</td>\n",
       "      <td>2.1969</td>\n",
       "      <td>1.3704</td>\n",
       "    </tr>\n",
       "    <tr>\n",
       "      <th>min</th>\n",
       "      <td>13.0000</td>\n",
       "      <td>12.1000</td>\n",
       "      <td>152.0000</td>\n",
       "      <td>93.0000</td>\n",
       "      <td>66.0000</td>\n",
       "      <td>34.0000</td>\n",
       "      <td>2420.0000</td>\n",
       "      <td>46.5000</td>\n",
       "      <td>10.0000</td>\n",
       "      <td>51.5000</td>\n",
       "      <td>39.0000</td>\n",
       "      <td>1.5000</td>\n",
       "      <td>6.5000</td>\n",
       "      <td>22.5000</td>\n",
       "      <td>0.0000</td>\n",
       "    </tr>\n",
       "    <tr>\n",
       "      <th>25%</th>\n",
       "      <td>19.0000</td>\n",
       "      <td>15.8250</td>\n",
       "      <td>178.0000</td>\n",
       "      <td>103.0000</td>\n",
       "      <td>68.0000</td>\n",
       "      <td>38.0000</td>\n",
       "      <td>3106.2500</td>\n",
       "      <td>50.0000</td>\n",
       "      <td>14.0000</td>\n",
       "      <td>54.0000</td>\n",
       "      <td>40.5000</td>\n",
       "      <td>3.5000</td>\n",
       "      <td>52.6250</td>\n",
       "      <td>27.0000</td>\n",
       "      <td>2.0000</td>\n",
       "    </tr>\n",
       "    <tr>\n",
       "      <th>50%</th>\n",
       "      <td>21.0000</td>\n",
       "      <td>17.4000</td>\n",
       "      <td>188.0000</td>\n",
       "      <td>107.0000</td>\n",
       "      <td>70.0000</td>\n",
       "      <td>40.0000</td>\n",
       "      <td>3395.0000</td>\n",
       "      <td>51.0000</td>\n",
       "      <td>16.0000</td>\n",
       "      <td>56.0000</td>\n",
       "      <td>41.0000</td>\n",
       "      <td>4.5000</td>\n",
       "      <td>56.0000</td>\n",
       "      <td>28.5000</td>\n",
       "      <td>3.0000</td>\n",
       "    </tr>\n",
       "    <tr>\n",
       "      <th>75%</th>\n",
       "      <td>23.0000</td>\n",
       "      <td>19.0000</td>\n",
       "      <td>195.0000</td>\n",
       "      <td>112.0000</td>\n",
       "      <td>73.0000</td>\n",
       "      <td>41.0000</td>\n",
       "      <td>3890.0000</td>\n",
       "      <td>60.0000</td>\n",
       "      <td>30.7500</td>\n",
       "      <td>58.5000</td>\n",
       "      <td>42.0000</td>\n",
       "      <td>5.0000</td>\n",
       "      <td>57.0000</td>\n",
       "      <td>30.0000</td>\n",
       "      <td>4.0000</td>\n",
       "    </tr>\n",
       "    <tr>\n",
       "      <th>max</th>\n",
       "      <td>31.0000</td>\n",
       "      <td>30.0000</td>\n",
       "      <td>226.0000</td>\n",
       "      <td>139.0000</td>\n",
       "      <td>80.0000</td>\n",
       "      <td>49.0000</td>\n",
       "      <td>5850.0000</td>\n",
       "      <td>70.5000</td>\n",
       "      <td>76.0000</td>\n",
       "      <td>63.5000</td>\n",
       "      <td>44.0000</td>\n",
       "      <td>8.0000</td>\n",
       "      <td>64.5000</td>\n",
       "      <td>34.0000</td>\n",
       "      <td>6.0000</td>\n",
       "    </tr>\n",
       "  </tbody>\n",
       "</table>\n",
       "</div>"
      ],
      "text/plain": [
       "       Mileage (mpg)  Capacity (gal)  Length (inches)  Wheel Base (inches)  \\\n",
       "count       106.0000        106.0000         106.0000             106.0000   \n",
       "mean         21.2925         17.8830         187.5943             107.6321   \n",
       "std           3.7695          3.4257          12.4936               7.0147   \n",
       "min          13.0000         12.1000         152.0000              93.0000   \n",
       "25%          19.0000         15.8250         178.0000             103.0000   \n",
       "50%          21.0000         17.4000         188.0000             107.0000   \n",
       "75%          23.0000         19.0000         195.0000             112.0000   \n",
       "max          31.0000         30.0000         226.0000             139.0000   \n",
       "\n",
       "       Width (inches)  Turning Circle (feet)  Weight (lbs)  Door Top (inches)  \\\n",
       "count        106.0000               106.0000      106.0000           106.0000   \n",
       "mean          70.9151                39.8491     3502.3113            53.8915   \n",
       "std            3.2370                 2.7973      633.4539             5.7475   \n",
       "min           66.0000                34.0000     2420.0000            46.5000   \n",
       "25%           68.0000                38.0000     3106.2500            50.0000   \n",
       "50%           70.0000                40.0000     3395.0000            51.0000   \n",
       "75%           73.0000                41.0000     3890.0000            60.0000   \n",
       "max           80.0000                49.0000     5850.0000            70.5000   \n",
       "\n",
       "       Luggage (cu. ft.)  Front Shoulder (inches)  Front Leg Room (inches)  \\\n",
       "count           106.0000                 106.0000                 106.0000   \n",
       "mean             25.0566                  56.4717                  41.2547   \n",
       "std              18.2355                   3.0416                   1.0218   \n",
       "min              10.0000                  51.5000                  39.0000   \n",
       "25%              14.0000                  54.0000                  40.5000   \n",
       "50%              16.0000                  56.0000                  41.0000   \n",
       "75%              30.7500                  58.5000                  42.0000   \n",
       "max              76.0000                  63.5000                  44.0000   \n",
       "\n",
       "       Front Head Room (inches)  Rear Shoulder (inches)  \\\n",
       "count                  106.0000                106.0000   \n",
       "mean                     4.2877                 54.7453   \n",
       "std                      1.2798                  7.1104   \n",
       "min                      1.5000                  6.5000   \n",
       "25%                      3.5000                 52.6250   \n",
       "50%                      4.5000                 56.0000   \n",
       "75%                      5.0000                 57.0000   \n",
       "max                      8.0000                 64.5000   \n",
       "\n",
       "       Rear Leg Room (inches)  Rear Head Room (inches)  \n",
       "count                106.0000                 106.0000  \n",
       "mean                  28.3632                   3.0236  \n",
       "std                    2.1969                   1.3704  \n",
       "min                   22.5000                   0.0000  \n",
       "25%                   27.0000                   2.0000  \n",
       "50%                   28.5000                   3.0000  \n",
       "75%                   30.0000                   4.0000  \n",
       "max                   34.0000                   6.0000  "
      ]
     },
     "execution_count": 13,
     "metadata": {},
     "output_type": "execute_result"
    }
   ],
   "source": [
    "# display descriptive statistics, rounded to 4 decimal places to clean-up displayed output\n",
    "Auto.describe().round(4)"
   ]
  },
  {
   "cell_type": "markdown",
   "metadata": {},
   "source": [
    "The output above allows us to see the mean and standard diviation of all numeric variables. We can also see some additional statistics which could be of use. To further explain these, we'll review descriptive statistics for the variable \"Milage (mpg)\":\n",
    "\n",
    "- count: There are 106 recorded values for Milage (mpg)\n",
    "- min: The minimum value recorded is 13 mpg\n",
    "- 25%: The first quartile, or 25% of values, falls below 19 mpg\n",
    "- 50%: The second quartile, or 50% of values, falls below 21 mpg\n",
    "- 75%: The thrid quartile, or 75% of values, falls below 23 mpg\n",
    "- max: The maximum value recorded is 31 mpg\n",
    "\n",
    "Next we'll look at the distribution of the variable Drive Type. First, we'll look at how many categories are in this variable."
   ]
  },
  {
   "cell_type": "code",
   "execution_count": 14,
   "metadata": {},
   "outputs": [
    {
     "data": {
      "text/plain": [
       "{'Front', 'Rear'}"
      ]
     },
     "execution_count": 14,
     "metadata": {},
     "output_type": "execute_result"
    }
   ],
   "source": [
    "# check categories in Drive Type\n",
    "set(Auto['Drive Type'])"
   ]
  },
  {
   "cell_type": "markdown",
   "metadata": {},
   "source": [
    "There are two categories of drive type, we'll use a bar graph to visualize the distribution using Seaborn."
   ]
  },
  {
   "cell_type": "code",
   "execution_count": 15,
   "metadata": {},
   "outputs": [
    {
     "data": {
      "image/png": "[encoded data removed]",
      "text/plain": [
       "<Figure size 720x360 with 1 Axes>"
      ]
     },
     "metadata": {},
     "output_type": "display_data"
    }
   ],
   "source": [
    "# invoke libraries\n",
    "import seaborn as sns\n",
    "import matplotlib.pyplot as plt\n",
    "\n",
    "# set style and plot size.\n",
    "sns.set(rc = {'figure.figsize':(10, 5)}, style=\"whitegrid\") # set style and plot size\n",
    "\n",
    "# feed data into plot and pick color, opacity, and orientation of bars\n",
    "ax = sns.countplot(y ='Drive Type', data = Auto,\n",
    "                   order=Auto['Drive Type'].value_counts().index,\n",
    "                   color='steelblue', alpha  = .7, orient='h')\n",
    "\n",
    "# set title for plot\n",
    "ax.set_title( \"Automobiles by Drive Type\" , size = 16 )\n",
    "\n",
    "# set label for x-axis\n",
    "ax.set_xlabel( \"Count of Automobiles\" , size = 14 )\n",
    "  \n",
    "# set label for y-axis\n",
    "ax.set_ylabel( \"Drive Type\" , size = 14 )\n",
    "\n",
    "# label each bar in barplot\n",
    "for p in ax.patches:\n",
    " height = p.get_height() # height of each horizontal bar is the same\n",
    " width = p.get_width() # width (average number of automobiles)\n",
    " # adding text to each bar\n",
    " ax.text(x = width+1, # x-coordinate position of data label, padded 1 to right of bar\n",
    "         y = p.get_y()+(height/2), # y-coordinate position of data label, padded to be in the middle of the bar\n",
    "         s = '{:.0f}'.format(width), # data label, formatted to ignore decimals\n",
    "         va = 'center') # sets vertical alignment (va) to center"
   ]
  },
  {
   "cell_type": "markdown",
   "metadata": {},
   "source": [
    "In the chart above we can observe that our data set contains 81 automobiles with a drive type of front wheel drive and 25 with a drive type of rear wheel drive.\n",
    "\n",
    "Next we'll look at the distribution of fuel type and following the same steps."
   ]
  },
  {
   "cell_type": "code",
   "execution_count": 16,
   "metadata": {},
   "outputs": [
    {
     "data": {
      "text/plain": [
       "{'Premium', 'Regular', 'Regular '}"
      ]
     },
     "execution_count": 16,
     "metadata": {},
     "output_type": "execute_result"
    }
   ],
   "source": [
    "# check categories in Fuel Type\n",
    "set(Auto['Fuel Type'])"
   ]
  },
  {
   "cell_type": "markdown",
   "metadata": {},
   "source": [
    "The output shows that we have two categories for \"Regular\" and the second appears to have a additional space at the end. We'll need to correct this in order to ensure that we have consistent categorization.\n",
    "\n",
    "Well do this by replacing all values of \"Regular \" with \"Regular\""
   ]
  },
  {
   "cell_type": "code",
   "execution_count": 17,
   "metadata": {},
   "outputs": [],
   "source": [
    "# replace 'Regular ' values with 'Regular'\n",
    "Auto.loc[ Auto['Fuel Type'] == 'Regular ', 'Fuel Type'] = 'Regular'"
   ]
  },
  {
   "cell_type": "markdown",
   "metadata": {},
   "source": [
    "Before moving forward with visualizing the distribution, we'll check the categories again to insure our change took place correctly."
   ]
  },
  {
   "cell_type": "code",
   "execution_count": 18,
   "metadata": {},
   "outputs": [
    {
     "data": {
      "text/plain": [
       "{'Premium', 'Regular'}"
      ]
     },
     "execution_count": 18,
     "metadata": {},
     "output_type": "execute_result"
    }
   ],
   "source": [
    "# check categories in Fuel Type\n",
    "set(Auto['Fuel Type'])"
   ]
  },
  {
   "cell_type": "markdown",
   "metadata": {},
   "source": [
    "Excellent! Our correction was successful. We'll now visualize the distribution."
   ]
  },
  {
   "cell_type": "code",
   "execution_count": 19,
   "metadata": {},
   "outputs": [
    {
     "data": {
      "image/png": "[encoded data removed]",
      "text/plain": [
       "<Figure size 720x360 with 1 Axes>"
      ]
     },
     "metadata": {},
     "output_type": "display_data"
    }
   ],
   "source": [
    "# feed data into plot and pick color, opacity, and orientation of bars\n",
    "ax = sns.countplot(y ='Fuel Type', data = Auto,\n",
    "                   order=Auto['Fuel Type'].value_counts().index,\n",
    "                   color='steelblue', alpha  = .7, orient='h')\n",
    "\n",
    "# set title for plot\n",
    "ax.set_title( \"Automobiles by Fuel Type\" , size = 16 )\n",
    "\n",
    "# set label for x-axis\n",
    "ax.set_xlabel( \"Count of Automobiles\" , size = 14 )\n",
    "  \n",
    "# set label for y-axis\n",
    "ax.set_ylabel( \"Fuel Type\" , size = 14 )\n",
    "\n",
    "# label each bar in barplot\n",
    "for p in ax.patches:\n",
    " height = p.get_height() # height of each horizontal bar is the same\n",
    " width = p.get_width() # width (average number of automobiles)\n",
    " # adding text to each bar\n",
    " ax.text(x = width+1, # x-coordinate position of data label, padded 1 to right of bar\n",
    "         y = p.get_y()+(height/2), # y-coordinate position of data label, padded to be in the middle of the bar\n",
    "         s = '{:.0f}'.format(width), # data label, formatted to ignore decimals\n",
    "         va = 'center') # sets vertical alignment (va) to center"
   ]
  },
  {
   "cell_type": "markdown",
   "metadata": {},
   "source": [
    "In the chart above we can observe that our data set contains 87 automobiles with a fuel type of regular and 19 with a fuel type of premium."
   ]
  },
  {
   "cell_type": "markdown",
   "metadata": {},
   "source": [
    "<font color='#2B3856'><b>4.</b> Use z-score normalization to standardize the values of the Weight attribute. Show the results side-by-side with the original Weight attribute. [Do not change the original Weight attribute in the table.] Alternatively you may choose to use a [0,1] Min-Max Normalization.You can create this by a manual calculation or use StandardScaler() in sklearn.preprocessing (</font>https://scikit-learn.org/stable/modules/generated/sklearn.preprocessing.StandardScaler.html<font color='DarkBlue'>).</font>"
   ]
  },
  {
   "cell_type": "markdown",
   "metadata": {},
   "source": [
    "We'll elect to apply Min-Max Normalization, however, code will be included in comments for z-score normalization."
   ]
  },
  {
   "cell_type": "code",
   "execution_count": 20,
   "metadata": {},
   "outputs": [
    {
     "data": {
      "text/html": [
       "<div>\n",
       "<style scoped>\n",
       "    .dataframe tbody tr th:only-of-type {\n",
       "        vertical-align: middle;\n",
       "    }\n",
       "\n",
       "    .dataframe tbody tr th {\n",
       "        vertical-align: top;\n",
       "    }\n",
       "\n",
       "    .dataframe thead th {\n",
       "        text-align: right;\n",
       "    }\n",
       "</style>\n",
       "<table border=\"1\" class=\"dataframe\">\n",
       "  <thead>\n",
       "    <tr style=\"text-align: right;\">\n",
       "      <th></th>\n",
       "      <th>Weight (lbs)</th>\n",
       "      <th>Weight Scaled</th>\n",
       "    </tr>\n",
       "  </thead>\n",
       "  <tbody>\n",
       "    <tr>\n",
       "      <th>0</th>\n",
       "      <td>2635</td>\n",
       "      <td>0.062682</td>\n",
       "    </tr>\n",
       "    <tr>\n",
       "      <th>1</th>\n",
       "      <td>3460</td>\n",
       "      <td>0.303207</td>\n",
       "    </tr>\n",
       "    <tr>\n",
       "      <th>2</th>\n",
       "      <td>3350</td>\n",
       "      <td>0.271137</td>\n",
       "    </tr>\n",
       "    <tr>\n",
       "      <th>3</th>\n",
       "      <td>3640</td>\n",
       "      <td>0.355685</td>\n",
       "    </tr>\n",
       "    <tr>\n",
       "      <th>4</th>\n",
       "      <td>3880</td>\n",
       "      <td>0.425656</td>\n",
       "    </tr>\n",
       "  </tbody>\n",
       "</table>\n",
       "</div>"
      ],
      "text/plain": [
       "   Weight (lbs)  Weight Scaled\n",
       "0          2635       0.062682\n",
       "1          3460       0.303207\n",
       "2          3350       0.271137\n",
       "3          3640       0.355685\n",
       "4          3880       0.425656"
      ]
     },
     "execution_count": 20,
     "metadata": {},
     "output_type": "execute_result"
    }
   ],
   "source": [
    "# apply min-max normalization to weight feature\n",
    "from sklearn.preprocessing import MinMaxScaler\n",
    "mms = MinMaxScaler()\n",
    "weight_scaled = mms.fit_transform(Auto[['Weight (lbs)']])\n",
    "weight_scaled \n",
    "Auto['Weight Scaled'] = weight_scaled\n",
    "Auto[['Weight (lbs)', 'Weight Scaled']].head()\n",
    "\n",
    "# code for applying z-scale normalization\n",
    "#from sklearn.preprocessing import StandardScaler\n",
    "#scaler = StandardScaler()\n",
    "#weight_scaled = scaler.fit_transform(Auto[['Weight (lbs)']])\n",
    "#weight_scaled\n",
    "#Auto['Weight Scaled'] = weight_scaled\n",
    "#Auto[['Weight (lbs)', 'Weight Scaled']].head()"
   ]
  },
  {
   "cell_type": "markdown",
   "metadata": {},
   "source": [
    "<font color='#2B3856'><b>5.</b> Convert the categorical variables into dummies. Note that this requires converting each categorical attribute into multiple attributes (dummies) and assigning binary values corresponding to the presence or not presence of the attribute value in the original record.</font>"
   ]
  },
  {
   "cell_type": "markdown",
   "metadata": {},
   "source": [
    "To complete this task, we have two categorical variables to convert. Those are 'Drive Type' and 'Fuel Type'. We'll start with 'Drive Type'."
   ]
  },
  {
   "cell_type": "code",
   "execution_count": 21,
   "metadata": {},
   "outputs": [
    {
     "data": {
      "text/html": [
       "<div>\n",
       "<style scoped>\n",
       "    .dataframe tbody tr th:only-of-type {\n",
       "        vertical-align: middle;\n",
       "    }\n",
       "\n",
       "    .dataframe tbody tr th {\n",
       "        vertical-align: top;\n",
       "    }\n",
       "\n",
       "    .dataframe thead th {\n",
       "        text-align: right;\n",
       "    }\n",
       "</style>\n",
       "<table border=\"1\" class=\"dataframe\">\n",
       "  <thead>\n",
       "    <tr style=\"text-align: right;\">\n",
       "      <th></th>\n",
       "      <th>Front</th>\n",
       "      <th>Rear</th>\n",
       "    </tr>\n",
       "  </thead>\n",
       "  <tbody>\n",
       "    <tr>\n",
       "      <th>0</th>\n",
       "      <td>1</td>\n",
       "      <td>0</td>\n",
       "    </tr>\n",
       "    <tr>\n",
       "      <th>1</th>\n",
       "      <td>1</td>\n",
       "      <td>0</td>\n",
       "    </tr>\n",
       "    <tr>\n",
       "      <th>2</th>\n",
       "      <td>1</td>\n",
       "      <td>0</td>\n",
       "    </tr>\n",
       "    <tr>\n",
       "      <th>3</th>\n",
       "      <td>1</td>\n",
       "      <td>0</td>\n",
       "    </tr>\n",
       "    <tr>\n",
       "      <th>4</th>\n",
       "      <td>1</td>\n",
       "      <td>0</td>\n",
       "    </tr>\n",
       "  </tbody>\n",
       "</table>\n",
       "</div>"
      ],
      "text/plain": [
       "   Front  Rear\n",
       "0      1     0\n",
       "1      1     0\n",
       "2      1     0\n",
       "3      1     0\n",
       "4      1     0"
      ]
     },
     "execution_count": 21,
     "metadata": {},
     "output_type": "execute_result"
    }
   ],
   "source": [
    "# creating dummy variables of Drive Type\n",
    "Drive_dummy=pd.DataFrame(pd.get_dummies(Auto['Drive Type']))\n",
    "Drive_dummy.head()"
   ]
  },
  {
   "cell_type": "markdown",
   "metadata": {},
   "source": [
    "And now we'll create the dummy variable of 'Fuel Type'."
   ]
  },
  {
   "cell_type": "code",
   "execution_count": 22,
   "metadata": {},
   "outputs": [
    {
     "data": {
      "text/html": [
       "<div>\n",
       "<style scoped>\n",
       "    .dataframe tbody tr th:only-of-type {\n",
       "        vertical-align: middle;\n",
       "    }\n",
       "\n",
       "    .dataframe tbody tr th {\n",
       "        vertical-align: top;\n",
       "    }\n",
       "\n",
       "    .dataframe thead th {\n",
       "        text-align: right;\n",
       "    }\n",
       "</style>\n",
       "<table border=\"1\" class=\"dataframe\">\n",
       "  <thead>\n",
       "    <tr style=\"text-align: right;\">\n",
       "      <th></th>\n",
       "      <th>Premium</th>\n",
       "      <th>Regular</th>\n",
       "    </tr>\n",
       "  </thead>\n",
       "  <tbody>\n",
       "    <tr>\n",
       "      <th>0</th>\n",
       "      <td>0</td>\n",
       "      <td>1</td>\n",
       "    </tr>\n",
       "    <tr>\n",
       "      <th>1</th>\n",
       "      <td>1</td>\n",
       "      <td>0</td>\n",
       "    </tr>\n",
       "    <tr>\n",
       "      <th>2</th>\n",
       "      <td>0</td>\n",
       "      <td>1</td>\n",
       "    </tr>\n",
       "    <tr>\n",
       "      <th>3</th>\n",
       "      <td>0</td>\n",
       "      <td>1</td>\n",
       "    </tr>\n",
       "    <tr>\n",
       "      <th>4</th>\n",
       "      <td>0</td>\n",
       "      <td>1</td>\n",
       "    </tr>\n",
       "  </tbody>\n",
       "</table>\n",
       "</div>"
      ],
      "text/plain": [
       "   Premium  Regular\n",
       "0        0        1\n",
       "1        1        0\n",
       "2        0        1\n",
       "3        0        1\n",
       "4        0        1"
      ]
     },
     "execution_count": 22,
     "metadata": {},
     "output_type": "execute_result"
    }
   ],
   "source": [
    "# creating dummy variables of Fuel Type\n",
    "Fuel_dummy=pd.DataFrame(pd.get_dummies(Auto['Fuel Type']))\n",
    "Fuel_dummy.head()"
   ]
  },
  {
   "cell_type": "markdown",
   "metadata": {},
   "source": [
    "Because we'll need to merge our dummies with the original data frame, we can also create dummies for both features into a single object."
   ]
  },
  {
   "cell_type": "code",
   "execution_count": 23,
   "metadata": {},
   "outputs": [
    {
     "data": {
      "text/plain": [
       "Index(['Fuel Type_Premium', 'Fuel Type_Regular', 'Drive Type_Front',\n",
       "       'Drive Type_Rear'],\n",
       "      dtype='object')"
      ]
     },
     "execution_count": 23,
     "metadata": {},
     "output_type": "execute_result"
    }
   ],
   "source": [
    "# create dummy variables of fuel and drive types\n",
    "dummy=pd.get_dummies(Auto[['Fuel Type', 'Drive Type']])\n",
    "dummy.columns"
   ]
  },
  {
   "cell_type": "markdown",
   "metadata": {},
   "source": [
    "Before merging, we'll convert these dummy variables into a data frame and view the head of that new data frame."
   ]
  },
  {
   "cell_type": "code",
   "execution_count": 24,
   "metadata": {},
   "outputs": [
    {
     "data": {
      "text/html": [
       "<div>\n",
       "<style scoped>\n",
       "    .dataframe tbody tr th:only-of-type {\n",
       "        vertical-align: middle;\n",
       "    }\n",
       "\n",
       "    .dataframe tbody tr th {\n",
       "        vertical-align: top;\n",
       "    }\n",
       "\n",
       "    .dataframe thead th {\n",
       "        text-align: right;\n",
       "    }\n",
       "</style>\n",
       "<table border=\"1\" class=\"dataframe\">\n",
       "  <thead>\n",
       "    <tr style=\"text-align: right;\">\n",
       "      <th></th>\n",
       "      <th>Fuel Type_Premium</th>\n",
       "      <th>Fuel Type_Regular</th>\n",
       "      <th>Drive Type_Front</th>\n",
       "      <th>Drive Type_Rear</th>\n",
       "    </tr>\n",
       "  </thead>\n",
       "  <tbody>\n",
       "    <tr>\n",
       "      <th>0</th>\n",
       "      <td>0</td>\n",
       "      <td>1</td>\n",
       "      <td>1</td>\n",
       "      <td>0</td>\n",
       "    </tr>\n",
       "    <tr>\n",
       "      <th>1</th>\n",
       "      <td>1</td>\n",
       "      <td>0</td>\n",
       "      <td>1</td>\n",
       "      <td>0</td>\n",
       "    </tr>\n",
       "    <tr>\n",
       "      <th>2</th>\n",
       "      <td>0</td>\n",
       "      <td>1</td>\n",
       "      <td>1</td>\n",
       "      <td>0</td>\n",
       "    </tr>\n",
       "    <tr>\n",
       "      <th>3</th>\n",
       "      <td>0</td>\n",
       "      <td>1</td>\n",
       "      <td>1</td>\n",
       "      <td>0</td>\n",
       "    </tr>\n",
       "    <tr>\n",
       "      <th>4</th>\n",
       "      <td>0</td>\n",
       "      <td>1</td>\n",
       "      <td>1</td>\n",
       "      <td>0</td>\n",
       "    </tr>\n",
       "  </tbody>\n",
       "</table>\n",
       "</div>"
      ],
      "text/plain": [
       "   Fuel Type_Premium  Fuel Type_Regular  Drive Type_Front  Drive Type_Rear\n",
       "0                  0                  1                 1                0\n",
       "1                  1                  0                 1                0\n",
       "2                  0                  1                 1                0\n",
       "3                  0                  1                 1                0\n",
       "4                  0                  1                 1                0"
      ]
     },
     "execution_count": 24,
     "metadata": {},
     "output_type": "execute_result"
    }
   ],
   "source": [
    "# save dummies as data frame\n",
    "dummy=pd.DataFrame(dummy)\n",
    "dummy.head()"
   ]
  },
  {
   "cell_type": "markdown",
   "metadata": {},
   "source": [
    "Next, we'll merge both dataframes."
   ]
  },
  {
   "cell_type": "code",
   "execution_count": 25,
   "metadata": {},
   "outputs": [
    {
     "data": {
      "text/html": [
       "<div>\n",
       "<style scoped>\n",
       "    .dataframe tbody tr th:only-of-type {\n",
       "        vertical-align: middle;\n",
       "    }\n",
       "\n",
       "    .dataframe tbody tr th {\n",
       "        vertical-align: top;\n",
       "    }\n",
       "\n",
       "    .dataframe thead th {\n",
       "        text-align: right;\n",
       "    }\n",
       "</style>\n",
       "<table border=\"1\" class=\"dataframe\">\n",
       "  <thead>\n",
       "    <tr style=\"text-align: right;\">\n",
       "      <th></th>\n",
       "      <th>Name</th>\n",
       "      <th>Drive Type</th>\n",
       "      <th>Mileage (mpg)</th>\n",
       "      <th>Fuel Type</th>\n",
       "      <th>Capacity (gal)</th>\n",
       "      <th>Length (inches)</th>\n",
       "      <th>Wheel Base (inches)</th>\n",
       "      <th>Width (inches)</th>\n",
       "      <th>Turning Circle (feet)</th>\n",
       "      <th>Weight (lbs)</th>\n",
       "      <th>...</th>\n",
       "      <th>Front Leg Room (inches)</th>\n",
       "      <th>Front Head Room (inches)</th>\n",
       "      <th>Rear Shoulder (inches)</th>\n",
       "      <th>Rear Leg Room (inches)</th>\n",
       "      <th>Rear Head Room (inches)</th>\n",
       "      <th>Weight Scaled</th>\n",
       "      <th>Fuel Type_Premium</th>\n",
       "      <th>Fuel Type_Regular</th>\n",
       "      <th>Drive Type_Front</th>\n",
       "      <th>Drive Type_Rear</th>\n",
       "    </tr>\n",
       "  </thead>\n",
       "  <tbody>\n",
       "    <tr>\n",
       "      <th>0</th>\n",
       "      <td>Acura Integra</td>\n",
       "      <td>Front</td>\n",
       "      <td>31.0</td>\n",
       "      <td>Regular</td>\n",
       "      <td>13.2</td>\n",
       "      <td>172.0</td>\n",
       "      <td>101.0</td>\n",
       "      <td>67.0</td>\n",
       "      <td>39.0</td>\n",
       "      <td>2635</td>\n",
       "      <td>...</td>\n",
       "      <td>41.5</td>\n",
       "      <td>2.0</td>\n",
       "      <td>46.5</td>\n",
       "      <td>25.0</td>\n",
       "      <td>0.5</td>\n",
       "      <td>0.062682</td>\n",
       "      <td>0</td>\n",
       "      <td>1</td>\n",
       "      <td>1</td>\n",
       "      <td>0</td>\n",
       "    </tr>\n",
       "    <tr>\n",
       "      <th>1</th>\n",
       "      <td>Acura TL</td>\n",
       "      <td>Front</td>\n",
       "      <td>22.0</td>\n",
       "      <td>Premium</td>\n",
       "      <td>17.1</td>\n",
       "      <td>193.0</td>\n",
       "      <td>108.0</td>\n",
       "      <td>70.0</td>\n",
       "      <td>40.0</td>\n",
       "      <td>3460</td>\n",
       "      <td>...</td>\n",
       "      <td>40.5</td>\n",
       "      <td>2.5</td>\n",
       "      <td>55.0</td>\n",
       "      <td>27.0</td>\n",
       "      <td>2.0</td>\n",
       "      <td>0.303207</td>\n",
       "      <td>1</td>\n",
       "      <td>0</td>\n",
       "      <td>1</td>\n",
       "      <td>0</td>\n",
       "    </tr>\n",
       "    <tr>\n",
       "      <th>2</th>\n",
       "      <td>Buick Century</td>\n",
       "      <td>Front</td>\n",
       "      <td>22.0</td>\n",
       "      <td>Regular</td>\n",
       "      <td>17.5</td>\n",
       "      <td>195.0</td>\n",
       "      <td>109.0</td>\n",
       "      <td>73.0</td>\n",
       "      <td>40.0</td>\n",
       "      <td>3350</td>\n",
       "      <td>...</td>\n",
       "      <td>44.0</td>\n",
       "      <td>5.0</td>\n",
       "      <td>57.0</td>\n",
       "      <td>30.0</td>\n",
       "      <td>2.0</td>\n",
       "      <td>0.271137</td>\n",
       "      <td>0</td>\n",
       "      <td>1</td>\n",
       "      <td>1</td>\n",
       "      <td>0</td>\n",
       "    </tr>\n",
       "    <tr>\n",
       "      <th>3</th>\n",
       "      <td>Buick LeSabre</td>\n",
       "      <td>Front</td>\n",
       "      <td>20.0</td>\n",
       "      <td>Regular</td>\n",
       "      <td>17.5</td>\n",
       "      <td>200.0</td>\n",
       "      <td>112.0</td>\n",
       "      <td>74.0</td>\n",
       "      <td>42.0</td>\n",
       "      <td>3640</td>\n",
       "      <td>...</td>\n",
       "      <td>40.5</td>\n",
       "      <td>5.0</td>\n",
       "      <td>58.0</td>\n",
       "      <td>27.5</td>\n",
       "      <td>4.5</td>\n",
       "      <td>0.355685</td>\n",
       "      <td>0</td>\n",
       "      <td>1</td>\n",
       "      <td>1</td>\n",
       "      <td>0</td>\n",
       "    </tr>\n",
       "    <tr>\n",
       "      <th>4</th>\n",
       "      <td>Buick Park Avenue</td>\n",
       "      <td>Front</td>\n",
       "      <td>21.0</td>\n",
       "      <td>Regular</td>\n",
       "      <td>18.5</td>\n",
       "      <td>207.0</td>\n",
       "      <td>114.0</td>\n",
       "      <td>75.0</td>\n",
       "      <td>43.0</td>\n",
       "      <td>3880</td>\n",
       "      <td>...</td>\n",
       "      <td>42.5</td>\n",
       "      <td>6.0</td>\n",
       "      <td>58.5</td>\n",
       "      <td>31.5</td>\n",
       "      <td>3.0</td>\n",
       "      <td>0.425656</td>\n",
       "      <td>0</td>\n",
       "      <td>1</td>\n",
       "      <td>1</td>\n",
       "      <td>0</td>\n",
       "    </tr>\n",
       "  </tbody>\n",
       "</table>\n",
       "<p>5 rows × 23 columns</p>\n",
       "</div>"
      ],
      "text/plain": [
       "                Name Drive Type  Mileage (mpg) Fuel Type  Capacity (gal)  \\\n",
       "0      Acura Integra      Front           31.0   Regular            13.2   \n",
       "1           Acura TL      Front           22.0   Premium            17.1   \n",
       "2      Buick Century      Front           22.0   Regular            17.5   \n",
       "3      Buick LeSabre      Front           20.0   Regular            17.5   \n",
       "4  Buick Park Avenue      Front           21.0   Regular            18.5   \n",
       "\n",
       "   Length (inches)  Wheel Base (inches)  Width (inches)  \\\n",
       "0            172.0                101.0            67.0   \n",
       "1            193.0                108.0            70.0   \n",
       "2            195.0                109.0            73.0   \n",
       "3            200.0                112.0            74.0   \n",
       "4            207.0                114.0            75.0   \n",
       "\n",
       "   Turning Circle (feet)  Weight (lbs)  ...  Front Leg Room (inches)  \\\n",
       "0                   39.0          2635  ...                     41.5   \n",
       "1                   40.0          3460  ...                     40.5   \n",
       "2                   40.0          3350  ...                     44.0   \n",
       "3                   42.0          3640  ...                     40.5   \n",
       "4                   43.0          3880  ...                     42.5   \n",
       "\n",
       "   Front Head Room (inches)  Rear Shoulder (inches)  Rear Leg Room (inches)  \\\n",
       "0                       2.0                    46.5                    25.0   \n",
       "1                       2.5                    55.0                    27.0   \n",
       "2                       5.0                    57.0                    30.0   \n",
       "3                       5.0                    58.0                    27.5   \n",
       "4                       6.0                    58.5                    31.5   \n",
       "\n",
       "   Rear Head Room (inches)  Weight Scaled  Fuel Type_Premium  \\\n",
       "0                      0.5       0.062682                  0   \n",
       "1                      2.0       0.303207                  1   \n",
       "2                      2.0       0.271137                  0   \n",
       "3                      4.5       0.355685                  0   \n",
       "4                      3.0       0.425656                  0   \n",
       "\n",
       "   Fuel Type_Regular  Drive Type_Front  Drive Type_Rear  \n",
       "0                  1                 1                0  \n",
       "1                  0                 1                0  \n",
       "2                  1                 1                0  \n",
       "3                  1                 1                0  \n",
       "4                  1                 1                0  \n",
       "\n",
       "[5 rows x 23 columns]"
      ]
     },
     "execution_count": 25,
     "metadata": {},
     "output_type": "execute_result"
    }
   ],
   "source": [
    "Auto = pd.merge(Auto, dummy, left_index=True, right_index=True)\n",
    "Auto.head()"
   ]
  },
  {
   "cell_type": "markdown",
   "metadata": {},
   "source": [
    "<font color='#2B3856'><b>6.</b> Perform basic correlation analysis (a correlation matrix) among the attributes. Perform both numeric and visual correlation outputs.</font>"
   ]
  },
  {
   "cell_type": "markdown",
   "metadata": {},
   "source": [
    "First, we'll create a correlation matrix. For our variables, we'll exclude our categorical variables (our dummy variables) along with the scaled version of the Weight feature. Displaying the correlation matrix will provide us with a numeric output."
   ]
  },
  {
   "cell_type": "code",
   "execution_count": 26,
   "metadata": {},
   "outputs": [
    {
     "data": {
      "text/html": [
       "<div>\n",
       "<style scoped>\n",
       "    .dataframe tbody tr th:only-of-type {\n",
       "        vertical-align: middle;\n",
       "    }\n",
       "\n",
       "    .dataframe tbody tr th {\n",
       "        vertical-align: top;\n",
       "    }\n",
       "\n",
       "    .dataframe thead th {\n",
       "        text-align: right;\n",
       "    }\n",
       "</style>\n",
       "<table border=\"1\" class=\"dataframe\">\n",
       "  <thead>\n",
       "    <tr style=\"text-align: right;\">\n",
       "      <th></th>\n",
       "      <th>Mileage (mpg)</th>\n",
       "      <th>Capacity (gal)</th>\n",
       "      <th>Length (inches)</th>\n",
       "      <th>Wheel Base (inches)</th>\n",
       "      <th>Width (inches)</th>\n",
       "      <th>Turning Circle (feet)</th>\n",
       "      <th>Weight (lbs)</th>\n",
       "      <th>Door Top (inches)</th>\n",
       "      <th>Luggage (cu. ft.)</th>\n",
       "      <th>Front Shoulder (inches)</th>\n",
       "      <th>Front Leg Room (inches)</th>\n",
       "      <th>Front Head Room (inches)</th>\n",
       "      <th>Rear Shoulder (inches)</th>\n",
       "      <th>Rear Leg Room (inches)</th>\n",
       "      <th>Rear Head Room (inches)</th>\n",
       "    </tr>\n",
       "  </thead>\n",
       "  <tbody>\n",
       "    <tr>\n",
       "      <th>Mileage (mpg)</th>\n",
       "      <td>1.000000</td>\n",
       "      <td>-0.787515</td>\n",
       "      <td>-0.387151</td>\n",
       "      <td>-0.512751</td>\n",
       "      <td>-0.578650</td>\n",
       "      <td>-0.571132</td>\n",
       "      <td>-0.875434</td>\n",
       "      <td>-0.771332</td>\n",
       "      <td>-0.619985</td>\n",
       "      <td>-0.607314</td>\n",
       "      <td>0.053420</td>\n",
       "      <td>-0.236747</td>\n",
       "      <td>-0.269556</td>\n",
       "      <td>-0.274588</td>\n",
       "      <td>-0.654005</td>\n",
       "    </tr>\n",
       "    <tr>\n",
       "      <th>Capacity (gal)</th>\n",
       "      <td>-0.787515</td>\n",
       "      <td>1.000000</td>\n",
       "      <td>0.505427</td>\n",
       "      <td>0.660131</td>\n",
       "      <td>0.678437</td>\n",
       "      <td>0.526678</td>\n",
       "      <td>0.888074</td>\n",
       "      <td>0.752458</td>\n",
       "      <td>0.716461</td>\n",
       "      <td>0.722434</td>\n",
       "      <td>-0.014806</td>\n",
       "      <td>0.274185</td>\n",
       "      <td>0.213711</td>\n",
       "      <td>0.371609</td>\n",
       "      <td>0.647434</td>\n",
       "    </tr>\n",
       "    <tr>\n",
       "      <th>Length (inches)</th>\n",
       "      <td>-0.387151</td>\n",
       "      <td>0.505427</td>\n",
       "      <td>1.000000</td>\n",
       "      <td>0.869492</td>\n",
       "      <td>0.832541</td>\n",
       "      <td>0.684696</td>\n",
       "      <td>0.550863</td>\n",
       "      <td>0.117489</td>\n",
       "      <td>0.240717</td>\n",
       "      <td>0.787516</td>\n",
       "      <td>0.268169</td>\n",
       "      <td>0.203634</td>\n",
       "      <td>0.203753</td>\n",
       "      <td>0.530583</td>\n",
       "      <td>0.200537</td>\n",
       "    </tr>\n",
       "    <tr>\n",
       "      <th>Wheel Base (inches)</th>\n",
       "      <td>-0.512751</td>\n",
       "      <td>0.660131</td>\n",
       "      <td>0.869492</td>\n",
       "      <td>1.000000</td>\n",
       "      <td>0.791321</td>\n",
       "      <td>0.641709</td>\n",
       "      <td>0.678488</td>\n",
       "      <td>0.411330</td>\n",
       "      <td>0.448967</td>\n",
       "      <td>0.790025</td>\n",
       "      <td>0.232445</td>\n",
       "      <td>0.294628</td>\n",
       "      <td>0.116297</td>\n",
       "      <td>0.407676</td>\n",
       "      <td>0.361039</td>\n",
       "    </tr>\n",
       "    <tr>\n",
       "      <th>Width (inches)</th>\n",
       "      <td>-0.578650</td>\n",
       "      <td>0.678437</td>\n",
       "      <td>0.832541</td>\n",
       "      <td>0.791321</td>\n",
       "      <td>1.000000</td>\n",
       "      <td>0.642269</td>\n",
       "      <td>0.743765</td>\n",
       "      <td>0.403390</td>\n",
       "      <td>0.450949</td>\n",
       "      <td>0.909002</td>\n",
       "      <td>0.091544</td>\n",
       "      <td>0.294469</td>\n",
       "      <td>0.400622</td>\n",
       "      <td>0.501899</td>\n",
       "      <td>0.416956</td>\n",
       "    </tr>\n",
       "    <tr>\n",
       "      <th>Turning Circle (feet)</th>\n",
       "      <td>-0.571132</td>\n",
       "      <td>0.526678</td>\n",
       "      <td>0.684696</td>\n",
       "      <td>0.641709</td>\n",
       "      <td>0.642269</td>\n",
       "      <td>1.000000</td>\n",
       "      <td>0.625479</td>\n",
       "      <td>0.413344</td>\n",
       "      <td>0.384132</td>\n",
       "      <td>0.624658</td>\n",
       "      <td>0.116876</td>\n",
       "      <td>0.251681</td>\n",
       "      <td>0.138586</td>\n",
       "      <td>0.340659</td>\n",
       "      <td>0.315220</td>\n",
       "    </tr>\n",
       "    <tr>\n",
       "      <th>Weight (lbs)</th>\n",
       "      <td>-0.875434</td>\n",
       "      <td>0.888074</td>\n",
       "      <td>0.550863</td>\n",
       "      <td>0.678488</td>\n",
       "      <td>0.743765</td>\n",
       "      <td>0.625479</td>\n",
       "      <td>1.000000</td>\n",
       "      <td>0.777217</td>\n",
       "      <td>0.656608</td>\n",
       "      <td>0.762697</td>\n",
       "      <td>0.022551</td>\n",
       "      <td>0.242911</td>\n",
       "      <td>0.319833</td>\n",
       "      <td>0.388947</td>\n",
       "      <td>0.624352</td>\n",
       "    </tr>\n",
       "    <tr>\n",
       "      <th>Door Top (inches)</th>\n",
       "      <td>-0.771332</td>\n",
       "      <td>0.752458</td>\n",
       "      <td>0.117489</td>\n",
       "      <td>0.411330</td>\n",
       "      <td>0.403390</td>\n",
       "      <td>0.413344</td>\n",
       "      <td>0.777217</td>\n",
       "      <td>1.000000</td>\n",
       "      <td>0.803932</td>\n",
       "      <td>0.498575</td>\n",
       "      <td>-0.240942</td>\n",
       "      <td>0.388512</td>\n",
       "      <td>0.175732</td>\n",
       "      <td>0.065755</td>\n",
       "      <td>0.742755</td>\n",
       "    </tr>\n",
       "    <tr>\n",
       "      <th>Luggage (cu. ft.)</th>\n",
       "      <td>-0.619985</td>\n",
       "      <td>0.716461</td>\n",
       "      <td>0.240717</td>\n",
       "      <td>0.448967</td>\n",
       "      <td>0.450949</td>\n",
       "      <td>0.384132</td>\n",
       "      <td>0.656608</td>\n",
       "      <td>0.803932</td>\n",
       "      <td>1.000000</td>\n",
       "      <td>0.603918</td>\n",
       "      <td>-0.222359</td>\n",
       "      <td>0.358312</td>\n",
       "      <td>0.201275</td>\n",
       "      <td>0.314236</td>\n",
       "      <td>0.791403</td>\n",
       "    </tr>\n",
       "    <tr>\n",
       "      <th>Front Shoulder (inches)</th>\n",
       "      <td>-0.607314</td>\n",
       "      <td>0.722434</td>\n",
       "      <td>0.787516</td>\n",
       "      <td>0.790025</td>\n",
       "      <td>0.909002</td>\n",
       "      <td>0.624658</td>\n",
       "      <td>0.762697</td>\n",
       "      <td>0.498575</td>\n",
       "      <td>0.603918</td>\n",
       "      <td>1.000000</td>\n",
       "      <td>0.063630</td>\n",
       "      <td>0.329347</td>\n",
       "      <td>0.441564</td>\n",
       "      <td>0.550277</td>\n",
       "      <td>0.570227</td>\n",
       "    </tr>\n",
       "    <tr>\n",
       "      <th>Front Leg Room (inches)</th>\n",
       "      <td>0.053420</td>\n",
       "      <td>-0.014806</td>\n",
       "      <td>0.268169</td>\n",
       "      <td>0.232445</td>\n",
       "      <td>0.091544</td>\n",
       "      <td>0.116876</td>\n",
       "      <td>0.022551</td>\n",
       "      <td>-0.240942</td>\n",
       "      <td>-0.222359</td>\n",
       "      <td>0.063630</td>\n",
       "      <td>1.000000</td>\n",
       "      <td>0.120034</td>\n",
       "      <td>-0.052595</td>\n",
       "      <td>0.444186</td>\n",
       "      <td>-0.191373</td>\n",
       "    </tr>\n",
       "    <tr>\n",
       "      <th>Front Head Room (inches)</th>\n",
       "      <td>-0.236747</td>\n",
       "      <td>0.274185</td>\n",
       "      <td>0.203634</td>\n",
       "      <td>0.294628</td>\n",
       "      <td>0.294469</td>\n",
       "      <td>0.251681</td>\n",
       "      <td>0.242911</td>\n",
       "      <td>0.388512</td>\n",
       "      <td>0.358312</td>\n",
       "      <td>0.329347</td>\n",
       "      <td>0.120034</td>\n",
       "      <td>1.000000</td>\n",
       "      <td>0.090027</td>\n",
       "      <td>0.158943</td>\n",
       "      <td>0.402010</td>\n",
       "    </tr>\n",
       "    <tr>\n",
       "      <th>Rear Shoulder (inches)</th>\n",
       "      <td>-0.269556</td>\n",
       "      <td>0.213711</td>\n",
       "      <td>0.203753</td>\n",
       "      <td>0.116297</td>\n",
       "      <td>0.400622</td>\n",
       "      <td>0.138586</td>\n",
       "      <td>0.319833</td>\n",
       "      <td>0.175732</td>\n",
       "      <td>0.201275</td>\n",
       "      <td>0.441564</td>\n",
       "      <td>-0.052595</td>\n",
       "      <td>0.090027</td>\n",
       "      <td>1.000000</td>\n",
       "      <td>0.360663</td>\n",
       "      <td>0.289684</td>\n",
       "    </tr>\n",
       "    <tr>\n",
       "      <th>Rear Leg Room (inches)</th>\n",
       "      <td>-0.274588</td>\n",
       "      <td>0.371609</td>\n",
       "      <td>0.530583</td>\n",
       "      <td>0.407676</td>\n",
       "      <td>0.501899</td>\n",
       "      <td>0.340659</td>\n",
       "      <td>0.388947</td>\n",
       "      <td>0.065755</td>\n",
       "      <td>0.314236</td>\n",
       "      <td>0.550277</td>\n",
       "      <td>0.444186</td>\n",
       "      <td>0.158943</td>\n",
       "      <td>0.360663</td>\n",
       "      <td>1.000000</td>\n",
       "      <td>0.292904</td>\n",
       "    </tr>\n",
       "    <tr>\n",
       "      <th>Rear Head Room (inches)</th>\n",
       "      <td>-0.654005</td>\n",
       "      <td>0.647434</td>\n",
       "      <td>0.200537</td>\n",
       "      <td>0.361039</td>\n",
       "      <td>0.416956</td>\n",
       "      <td>0.315220</td>\n",
       "      <td>0.624352</td>\n",
       "      <td>0.742755</td>\n",
       "      <td>0.791403</td>\n",
       "      <td>0.570227</td>\n",
       "      <td>-0.191373</td>\n",
       "      <td>0.402010</td>\n",
       "      <td>0.289684</td>\n",
       "      <td>0.292904</td>\n",
       "      <td>1.000000</td>\n",
       "    </tr>\n",
       "  </tbody>\n",
       "</table>\n",
       "</div>"
      ],
      "text/plain": [
       "                          Mileage (mpg)  Capacity (gal)  Length (inches)  \\\n",
       "Mileage (mpg)                  1.000000       -0.787515        -0.387151   \n",
       "Capacity (gal)                -0.787515        1.000000         0.505427   \n",
       "Length (inches)               -0.387151        0.505427         1.000000   \n",
       "Wheel Base (inches)           -0.512751        0.660131         0.869492   \n",
       "Width (inches)                -0.578650        0.678437         0.832541   \n",
       "Turning Circle (feet)         -0.571132        0.526678         0.684696   \n",
       "Weight (lbs)                  -0.875434        0.888074         0.550863   \n",
       "Door Top (inches)             -0.771332        0.752458         0.117489   \n",
       "Luggage (cu. ft.)             -0.619985        0.716461         0.240717   \n",
       "Front Shoulder (inches)       -0.607314        0.722434         0.787516   \n",
       "Front Leg Room (inches)        0.053420       -0.014806         0.268169   \n",
       "Front Head Room (inches)      -0.236747        0.274185         0.203634   \n",
       "Rear Shoulder (inches)        -0.269556        0.213711         0.203753   \n",
       "Rear Leg Room (inches)        -0.274588        0.371609         0.530583   \n",
       "Rear Head Room (inches)       -0.654005        0.647434         0.200537   \n",
       "\n",
       "                          Wheel Base (inches)  Width (inches)  \\\n",
       "Mileage (mpg)                       -0.512751       -0.578650   \n",
       "Capacity (gal)                       0.660131        0.678437   \n",
       "Length (inches)                      0.869492        0.832541   \n",
       "Wheel Base (inches)                  1.000000        0.791321   \n",
       "Width (inches)                       0.791321        1.000000   \n",
       "Turning Circle (feet)                0.641709        0.642269   \n",
       "Weight (lbs)                         0.678488        0.743765   \n",
       "Door Top (inches)                    0.411330        0.403390   \n",
       "Luggage (cu. ft.)                    0.448967        0.450949   \n",
       "Front Shoulder (inches)              0.790025        0.909002   \n",
       "Front Leg Room (inches)              0.232445        0.091544   \n",
       "Front Head Room (inches)             0.294628        0.294469   \n",
       "Rear Shoulder (inches)               0.116297        0.400622   \n",
       "Rear Leg Room (inches)               0.407676        0.501899   \n",
       "Rear Head Room (inches)              0.361039        0.416956   \n",
       "\n",
       "                          Turning Circle (feet)  Weight (lbs)  \\\n",
       "Mileage (mpg)                         -0.571132     -0.875434   \n",
       "Capacity (gal)                         0.526678      0.888074   \n",
       "Length (inches)                        0.684696      0.550863   \n",
       "Wheel Base (inches)                    0.641709      0.678488   \n",
       "Width (inches)                         0.642269      0.743765   \n",
       "Turning Circle (feet)                  1.000000      0.625479   \n",
       "Weight (lbs)                           0.625479      1.000000   \n",
       "Door Top (inches)                      0.413344      0.777217   \n",
       "Luggage (cu. ft.)                      0.384132      0.656608   \n",
       "Front Shoulder (inches)                0.624658      0.762697   \n",
       "Front Leg Room (inches)                0.116876      0.022551   \n",
       "Front Head Room (inches)               0.251681      0.242911   \n",
       "Rear Shoulder (inches)                 0.138586      0.319833   \n",
       "Rear Leg Room (inches)                 0.340659      0.388947   \n",
       "Rear Head Room (inches)                0.315220      0.624352   \n",
       "\n",
       "                          Door Top (inches)  Luggage (cu. ft.)  \\\n",
       "Mileage (mpg)                     -0.771332          -0.619985   \n",
       "Capacity (gal)                     0.752458           0.716461   \n",
       "Length (inches)                    0.117489           0.240717   \n",
       "Wheel Base (inches)                0.411330           0.448967   \n",
       "Width (inches)                     0.403390           0.450949   \n",
       "Turning Circle (feet)              0.413344           0.384132   \n",
       "Weight (lbs)                       0.777217           0.656608   \n",
       "Door Top (inches)                  1.000000           0.803932   \n",
       "Luggage (cu. ft.)                  0.803932           1.000000   \n",
       "Front Shoulder (inches)            0.498575           0.603918   \n",
       "Front Leg Room (inches)           -0.240942          -0.222359   \n",
       "Front Head Room (inches)           0.388512           0.358312   \n",
       "Rear Shoulder (inches)             0.175732           0.201275   \n",
       "Rear Leg Room (inches)             0.065755           0.314236   \n",
       "Rear Head Room (inches)            0.742755           0.791403   \n",
       "\n",
       "                          Front Shoulder (inches)  Front Leg Room (inches)  \\\n",
       "Mileage (mpg)                           -0.607314                 0.053420   \n",
       "Capacity (gal)                           0.722434                -0.014806   \n",
       "Length (inches)                          0.787516                 0.268169   \n",
       "Wheel Base (inches)                      0.790025                 0.232445   \n",
       "Width (inches)                           0.909002                 0.091544   \n",
       "Turning Circle (feet)                    0.624658                 0.116876   \n",
       "Weight (lbs)                             0.762697                 0.022551   \n",
       "Door Top (inches)                        0.498575                -0.240942   \n",
       "Luggage (cu. ft.)                        0.603918                -0.222359   \n",
       "Front Shoulder (inches)                  1.000000                 0.063630   \n",
       "Front Leg Room (inches)                  0.063630                 1.000000   \n",
       "Front Head Room (inches)                 0.329347                 0.120034   \n",
       "Rear Shoulder (inches)                   0.441564                -0.052595   \n",
       "Rear Leg Room (inches)                   0.550277                 0.444186   \n",
       "Rear Head Room (inches)                  0.570227                -0.191373   \n",
       "\n",
       "                          Front Head Room (inches)  Rear Shoulder (inches)  \\\n",
       "Mileage (mpg)                            -0.236747               -0.269556   \n",
       "Capacity (gal)                            0.274185                0.213711   \n",
       "Length (inches)                           0.203634                0.203753   \n",
       "Wheel Base (inches)                       0.294628                0.116297   \n",
       "Width (inches)                            0.294469                0.400622   \n",
       "Turning Circle (feet)                     0.251681                0.138586   \n",
       "Weight (lbs)                              0.242911                0.319833   \n",
       "Door Top (inches)                         0.388512                0.175732   \n",
       "Luggage (cu. ft.)                         0.358312                0.201275   \n",
       "Front Shoulder (inches)                   0.329347                0.441564   \n",
       "Front Leg Room (inches)                   0.120034               -0.052595   \n",
       "Front Head Room (inches)                  1.000000                0.090027   \n",
       "Rear Shoulder (inches)                    0.090027                1.000000   \n",
       "Rear Leg Room (inches)                    0.158943                0.360663   \n",
       "Rear Head Room (inches)                   0.402010                0.289684   \n",
       "\n",
       "                          Rear Leg Room (inches)  Rear Head Room (inches)  \n",
       "Mileage (mpg)                          -0.274588                -0.654005  \n",
       "Capacity (gal)                          0.371609                 0.647434  \n",
       "Length (inches)                         0.530583                 0.200537  \n",
       "Wheel Base (inches)                     0.407676                 0.361039  \n",
       "Width (inches)                          0.501899                 0.416956  \n",
       "Turning Circle (feet)                   0.340659                 0.315220  \n",
       "Weight (lbs)                            0.388947                 0.624352  \n",
       "Door Top (inches)                       0.065755                 0.742755  \n",
       "Luggage (cu. ft.)                       0.314236                 0.791403  \n",
       "Front Shoulder (inches)                 0.550277                 0.570227  \n",
       "Front Leg Room (inches)                 0.444186                -0.191373  \n",
       "Front Head Room (inches)                0.158943                 0.402010  \n",
       "Rear Shoulder (inches)                  0.360663                 0.289684  \n",
       "Rear Leg Room (inches)                  1.000000                 0.292904  \n",
       "Rear Head Room (inches)                 0.292904                 1.000000  "
      ]
     },
     "execution_count": 26,
     "metadata": {},
     "output_type": "execute_result"
    }
   ],
   "source": [
    "# create correlation matrix\n",
    "corr_matrix = Auto.iloc[:,2:18].corr()\n",
    "corr_matrix"
   ]
  },
  {
   "cell_type": "markdown",
   "metadata": {},
   "source": [
    "The correlation in the output above is quite large, as we have a large count of features. As an example of how to read this output, let's look at the cell where Capcity (gal) on the y-axis intersects with Mileage (mpg) on the x-axis. Here there is a value of -0.787515, this indicates that there is a strong negative relationship between capacity and mileage. This can otherwise be stated as when mileage increases, fuel capacity descreases. This may likely be do to automobiles needing less fuel capacity as a result of higher fuel efficency.\n",
    "\n",
    "This example helps displays the value in a correlation matrix, however, it's difficult to read. We'll produce a visualization of this matrix to make it more readable."
   ]
  },
  {
   "cell_type": "code",
   "execution_count": 27,
   "metadata": {},
   "outputs": [
    {
     "data": {
      "image/png": "[encoded data removed]",
      "text/plain": [
       "<Figure size 720x720 with 2 Axes>"
      ]
     },
     "metadata": {},
     "output_type": "display_data"
    }
   ],
   "source": [
    "#code chunk is attributed as follows:\n",
    "#Shaw, Chris (2019). How to customize seaborn correlation heat map. Medium. \n",
    "#Retrieved from https://medium.com/@chrisshaw982/seaborn-correlation-heatmaps-customized-10246f4f7f4b.\n",
    "\n",
    "import numpy as np\n",
    "\n",
    "plt.figure(figsize=(10,10)) #need to adjust size as needed.\n",
    "mask = np.zeros_like(corr_matrix, dtype=bool)\n",
    "mask[np.triu_indices_from(mask)] = True\n",
    "\n",
    "sns.heatmap(corr_matrix,\n",
    "           vmin=-1,\n",
    "           vmax=1,\n",
    "           cmap='coolwarm',\n",
    "           annot=True,\n",
    "           mask=mask)\n",
    "plt.show()"
   ]
  },
  {
   "cell_type": "markdown",
   "metadata": {},
   "source": [
    "If we look at the intersection of Capacity (gal) and Mileage (mpg) in the visual above, we can see the value of -0.79 in a blue square. The visual simplifies the matrix and adds color to help distinguish the stronger relationships. For example, we can quickly see that the strongest positive relationship is between Front Shoulder (inches) and Width (inches) and the strongest negative relationship is between Weight (lbs) and Mileage (mpg)."
   ]
  },
  {
   "cell_type": "markdown",
   "metadata": {},
   "source": [
    "<font color='#2B3856'><b>7.</b> Using the new converted dataset, perform a Principal Component Analysis (PCA). How much variation is captured in 3 Principal Components? Here is the documentation for PCA:</font> https://scikit-learn.org/stable/modules/generated/sklearn.decomposition.PCA.html"
   ]
  },
  {
   "cell_type": "markdown",
   "metadata": {},
   "source": [
    "First, we'll make sure that we only have columns in numeric form. We'll exclude the feature Name as this would effectively be a unique identifier for each automobile. This would throw off our machine learning algorithms as they would have an absolute way to identify each record in the train phase. We'll also drop the weight scaled feature as this is redundent."
   ]
  },
  {
   "cell_type": "code",
   "execution_count": 28,
   "metadata": {},
   "outputs": [
    {
     "data": {
      "text/plain": [
       "Index(['Mileage (mpg)', 'Capacity (gal)', 'Length (inches)',\n",
       "       'Wheel Base (inches)', 'Width (inches)', 'Turning Circle (feet)',\n",
       "       'Weight (lbs)', 'Door Top (inches)', 'Luggage (cu. ft.)',\n",
       "       'Front Shoulder (inches)', 'Front Leg Room (inches)',\n",
       "       'Front Head Room (inches)', 'Rear Shoulder (inches)',\n",
       "       'Rear Leg Room (inches)', 'Rear Head Room (inches)',\n",
       "       'Fuel Type_Premium', 'Fuel Type_Regular', 'Drive Type_Front',\n",
       "       'Drive Type_Rear'],\n",
       "      dtype='object')"
      ]
     },
     "execution_count": 28,
     "metadata": {},
     "output_type": "execute_result"
    }
   ],
   "source": [
    "# remove weight scaled feature\n",
    "Auto = Auto.drop(['Weight Scaled'], axis=1)\n",
    "\n",
    "# save only numeric type features\n",
    "Auto_PCA = Auto.select_dtypes(include='number')\n",
    "\n",
    "# display columns for verification\n",
    "Auto_PCA.columns"
   ]
  },
  {
   "cell_type": "markdown",
   "metadata": {},
   "source": [
    "We can now move forward with Principle Component Analysis. We'll scall the features, fit for PCA, and then display the explained variance of the top three components. We'll then sum these three together to get the total percentage of explained variance in these three components."
   ]
  },
  {
   "cell_type": "code",
   "execution_count": 29,
   "metadata": {},
   "outputs": [
    {
     "name": "stdout",
     "output_type": "stream",
     "text": [
      "The explained variance for the top three components: [0.41783    0.13280695 0.12518709]\n",
      "Together, these three components account for the following percent of total variance: 67.58%\n"
     ]
    }
   ],
   "source": [
    "# invoke PCA and StandardScaler\n",
    "from sklearn.decomposition import PCA\n",
    "from sklearn.preprocessing import StandardScaler\n",
    "\n",
    "# scale the data\n",
    "sc = StandardScaler()\n",
    "Auto_PCA_std = sc.fit_transform(Auto_PCA)\n",
    "\n",
    "# set number of components to three\n",
    "pca = PCA(n_components=3)\n",
    "pca.fit(Auto_PCA_std)\n",
    "\n",
    "# format output \n",
    "print(\"The explained variance for the top three components: \" + str(pca.explained_variance_ratio_))\n",
    "print(\"Together, these three components account for the following percent of total variance: {:,.2%}\".format(sum(pca.explained_variance_ratio_)))"
   ]
  },
  {
   "cell_type": "markdown",
   "metadata": {},
   "source": [
    "We can varify these results by creating a covariance matrix and identifying the eigen values."
   ]
  },
  {
   "cell_type": "code",
   "execution_count": 30,
   "metadata": {},
   "outputs": [
    {
     "name": "stdout",
     "output_type": "stream",
     "text": [
      "\n",
      "Eigenvalues \n",
      "[ 8.01437739e+00  2.54736380e+00  2.40120754e+00  1.61324729e+00\n",
      "  1.08906373e+00  9.46265542e-01  7.31895483e-01  5.01583831e-01\n",
      "  3.47538047e-01  2.50365287e-01  2.24938830e-01  1.48762346e-01\n",
      "  1.30911793e-01  9.71279135e-02  6.23116963e-02  4.59933008e-02\n",
      "  2.79985535e-02 -3.87562282e-17 -9.69227503e-17]\n"
     ]
    }
   ],
   "source": [
    "# invoke PCA and numpy\n",
    "from sklearn.preprocessing import StandardScaler\n",
    "import numpy as np\n",
    "\n",
    "# scale the data\n",
    "sc = StandardScaler()\n",
    "Auto_PCA_std = sc.fit_transform(Auto_PCA)\n",
    "\n",
    "# produce the covariance matrix and eigen values\n",
    "cov_mat = np.cov(Auto_PCA_std.T)\n",
    "eigen_vals, eigen_vecs = np.linalg.eig(cov_mat)\n",
    "\n",
    "# print output\n",
    "print('\\nEigenvalues \\n%s' % eigen_vals)"
   ]
  },
  {
   "cell_type": "markdown",
   "metadata": {},
   "source": [
    "Next, we'll produce a visual of the principle components."
   ]
  },
  {
   "cell_type": "code",
   "execution_count": 31,
   "metadata": {},
   "outputs": [
    {
     "data": {
      "image/png": "[encoded data removed]",
      "text/plain": [
       "<Figure size 720x360 with 1 Axes>"
      ]
     },
     "metadata": {},
     "output_type": "display_data"
    }
   ],
   "source": [
    "# invoke matplotlib\n",
    "import matplotlib.pyplot as plt\n",
    "\n",
    "# prepare parameters for visualization\n",
    "tot = sum(eigen_vals)\n",
    "var_exp = [(i / tot) for i in sorted(eigen_vals, reverse=True)]\n",
    "cum_var_exp = np.cumsum(var_exp)\n",
    "\n",
    "# plot individual explained variance (bars)\n",
    "plt.bar(range(1,20), var_exp, color='steelblue',  \n",
    "        alpha=0.75, align='center', label='Individual explained variance')\n",
    "\n",
    "# plot cumulative explained variance (line)\n",
    "plt.step(range(1,20), cum_var_exp, where='mid', label = 'Cumulative explained variance', color='darkslategray')\n",
    "plt.ylabel('Explained variance ratio')\n",
    "plt.xlabel('Principal component index')\n",
    "plt.legend(loc='best')\n",
    "plt.tight_layout()\n",
    "plt.show()"
   ]
  },
  {
   "cell_type": "markdown",
   "metadata": {},
   "source": [
    "Recalling back to our top three principle components which came in at 41.78%, 13.28%, and 12.52%. We can see in our scree plot that the first three bars align with those values. This scree plot also helps us to see the diminising returns of the additional components."
   ]
  },
  {
   "cell_type": "markdown",
   "metadata": {},
   "source": [
    "<font color='#2B3856'><b>8.</b> Using Matplotlib library, create a scatter plot of the (non-normalized) Weight attribute relative to MPG. Be sure that your plot contains appropriate labels for the axes. (You can alternatively explore the seaborn package if you want:https://seaborn.pydata.org/<font color='#2B3856'>).</font>"
   ]
  },
  {
   "cell_type": "markdown",
   "metadata": {},
   "source": [
    "For this task, we'll simply produce our scatterplot using seaborn."
   ]
  },
  {
   "cell_type": "code",
   "execution_count": 32,
   "metadata": {},
   "outputs": [
    {
     "data": {
      "image/png": "[encoded data removed]",
      "text/plain": [
       "<Figure size 720x360 with 1 Axes>"
      ]
     },
     "metadata": {},
     "output_type": "display_data"
    }
   ],
   "source": [
    "sns.scatterplot(data=Auto, y='Weight (lbs)', x='Mileage (mpg)', color='steelblue')\n",
    "plt.show()"
   ]
  },
  {
   "cell_type": "markdown",
   "metadata": {},
   "source": [
    "In observing the scatterplot, it appears that as weight decreases, mileage increases. This is consistent with the correlation we saw in our matrix previously."
   ]
  },
  {
   "cell_type": "markdown",
   "metadata": {},
   "source": [
    "<font color='#2B3856'><b>9.</b> Using the hist function in Matplotlib (or Seaborn or both), create histograms for (non-normalized) Luggage (using 6 bins) and MPG (using 7 bins).</font>"
   ]
  },
  {
   "cell_type": "markdown",
   "metadata": {},
   "source": [
    "We'll use seaborn to create the histogram of Luggage (cu. ft.). As a note, we saved the normalized data as another variable during the steps of PCA. Therefore, the Auto data frame is still non-normalized and meets the criteria of this task."
   ]
  },
  {
   "cell_type": "code",
   "execution_count": 33,
   "metadata": {},
   "outputs": [
    {
     "data": {
      "image/png": "[encoded data removed]",
      "text/plain": [
       "<Figure size 720x360 with 1 Axes>"
      ]
     },
     "metadata": {},
     "output_type": "display_data"
    }
   ],
   "source": [
    "import seaborn as sns\n",
    "sns.histplot(data=Auto, x=\"Luggage (cu. ft.)\", bins=6, color='steelblue')\n",
    "plt.show()"
   ]
  },
  {
   "cell_type": "markdown",
   "metadata": {},
   "source": [
    "From this histogram we can see our data is skewed to the right. Next we'll produce the histogram of Mileage (mpg)."
   ]
  },
  {
   "cell_type": "code",
   "execution_count": 34,
   "metadata": {},
   "outputs": [
    {
     "data": {
      "image/png": "[encoded data removed]",
      "text/plain": [
       "<Figure size 720x360 with 1 Axes>"
      ]
     },
     "metadata": {},
     "output_type": "display_data"
    }
   ],
   "source": [
    "sns.histplot(data=Auto, x='Mileage (mpg)', bins=6, color='steelblue')\n",
    "plt.show()"
   ]
  },
  {
   "cell_type": "markdown",
   "metadata": {},
   "source": [
    "This histogram is closer to normal distribution than the previous."
   ]
  },
  {
   "cell_type": "markdown",
   "metadata": {},
   "source": [
    "<font color='#2B3856'><b>10.</b> Perform a cross-tabulation of the two \"fuel type\" variables versus the two \"Drive type\" variables. This requires the aggregation of the occurrences of each Fuel Type separately for each Drive Type. You can use whatever appropriate data structure you which to store the results, but you can display it as as a 2 x 2 table with entries representing the counts. Then, use Matplotlib to create a bar chart graph to visualize of the relationships between these sets of variables (comparing Regular and Premium customer across the two drive types). Your chart should contain appropriate labels for axes.</font>"
   ]
  },
  {
   "cell_type": "markdown",
   "metadata": {},
   "source": [
    "For this taks, we'll begin with producing the crosstab table and printing it as output."
   ]
  },
  {
   "cell_type": "code",
   "execution_count": 35,
   "metadata": {},
   "outputs": [
    {
     "name": "stdout",
     "output_type": "stream",
     "text": [
      "Drive Type  Premium  Regular\n",
      "Fuel Type                   \n",
      "Front            11       70\n",
      "Rear              8       17\n"
     ]
    }
   ],
   "source": [
    "#crosstab\n",
    "fuel_drive_cross=pd.crosstab(Auto['Drive Type'], Auto['Fuel Type'], \n",
    "                             colnames=['Drive Type'],rownames=['Fuel Type'])\n",
    "print(fuel_drive_cross)"
   ]
  },
  {
   "cell_type": "markdown",
   "metadata": {},
   "source": [
    "Now we'll produce a stacked barchart to visualize the crosstab."
   ]
  },
  {
   "cell_type": "code",
   "execution_count": 36,
   "metadata": {},
   "outputs": [
    {
     "data": {
      "image/png": "[encoded data removed]",
      "text/plain": [
       "<Figure size 720x360 with 1 Axes>"
      ]
     },
     "metadata": {},
     "output_type": "display_data"
    }
   ],
   "source": [
    "#bar chart of Genre by Gender\n",
    "fuel_drive_cross.plot(kind='bar', stacked=True)\n",
    "plt.title('Fuel by Drive Type', size=14)\n",
    "plt.show()"
   ]
  },
  {
   "cell_type": "markdown",
   "metadata": {},
   "source": [
    "We can observe from this chart that most automobiles are front wheel drive and use regular few. The rarest combination appears to be a rear wheel drive using premium fuel."
   ]
  },
  {
   "cell_type": "markdown",
   "metadata": {},
   "source": [
    "<font color='#2B3856'><b>11.</b> Create a new data frame where fuel is “regular” AND MPG is over 21. Call it Auto_sub.</font>"
   ]
  },
  {
   "cell_type": "markdown",
   "metadata": {},
   "source": [
    "We'll produce a subset of Auto accounting for both filters, save it as \"Auto_sub\" and display the head of the subset data frame to confirm our steps were correct."
   ]
  },
  {
   "cell_type": "code",
   "execution_count": 37,
   "metadata": {},
   "outputs": [
    {
     "data": {
      "text/html": [
       "<div>\n",
       "<style scoped>\n",
       "    .dataframe tbody tr th:only-of-type {\n",
       "        vertical-align: middle;\n",
       "    }\n",
       "\n",
       "    .dataframe tbody tr th {\n",
       "        vertical-align: top;\n",
       "    }\n",
       "\n",
       "    .dataframe thead th {\n",
       "        text-align: right;\n",
       "    }\n",
       "</style>\n",
       "<table border=\"1\" class=\"dataframe\">\n",
       "  <thead>\n",
       "    <tr style=\"text-align: right;\">\n",
       "      <th></th>\n",
       "      <th>Name</th>\n",
       "      <th>Drive Type</th>\n",
       "      <th>Mileage (mpg)</th>\n",
       "      <th>Fuel Type</th>\n",
       "      <th>Capacity (gal)</th>\n",
       "      <th>Length (inches)</th>\n",
       "      <th>Wheel Base (inches)</th>\n",
       "      <th>Width (inches)</th>\n",
       "      <th>Turning Circle (feet)</th>\n",
       "      <th>Weight (lbs)</th>\n",
       "      <th>...</th>\n",
       "      <th>Front Shoulder (inches)</th>\n",
       "      <th>Front Leg Room (inches)</th>\n",
       "      <th>Front Head Room (inches)</th>\n",
       "      <th>Rear Shoulder (inches)</th>\n",
       "      <th>Rear Leg Room (inches)</th>\n",
       "      <th>Rear Head Room (inches)</th>\n",
       "      <th>Fuel Type_Premium</th>\n",
       "      <th>Fuel Type_Regular</th>\n",
       "      <th>Drive Type_Front</th>\n",
       "      <th>Drive Type_Rear</th>\n",
       "    </tr>\n",
       "  </thead>\n",
       "  <tbody>\n",
       "    <tr>\n",
       "      <th>0</th>\n",
       "      <td>Acura Integra</td>\n",
       "      <td>Front</td>\n",
       "      <td>31.0</td>\n",
       "      <td>Regular</td>\n",
       "      <td>13.2</td>\n",
       "      <td>172.0</td>\n",
       "      <td>101.0</td>\n",
       "      <td>67.0</td>\n",
       "      <td>39.0</td>\n",
       "      <td>2635</td>\n",
       "      <td>...</td>\n",
       "      <td>51.5</td>\n",
       "      <td>41.5</td>\n",
       "      <td>2.0</td>\n",
       "      <td>46.5</td>\n",
       "      <td>25.0</td>\n",
       "      <td>0.5</td>\n",
       "      <td>0</td>\n",
       "      <td>1</td>\n",
       "      <td>1</td>\n",
       "      <td>0</td>\n",
       "    </tr>\n",
       "    <tr>\n",
       "      <th>2</th>\n",
       "      <td>Buick Century</td>\n",
       "      <td>Front</td>\n",
       "      <td>22.0</td>\n",
       "      <td>Regular</td>\n",
       "      <td>17.5</td>\n",
       "      <td>195.0</td>\n",
       "      <td>109.0</td>\n",
       "      <td>73.0</td>\n",
       "      <td>40.0</td>\n",
       "      <td>3350</td>\n",
       "      <td>...</td>\n",
       "      <td>58.0</td>\n",
       "      <td>44.0</td>\n",
       "      <td>5.0</td>\n",
       "      <td>57.0</td>\n",
       "      <td>30.0</td>\n",
       "      <td>2.0</td>\n",
       "      <td>0</td>\n",
       "      <td>1</td>\n",
       "      <td>1</td>\n",
       "      <td>0</td>\n",
       "    </tr>\n",
       "    <tr>\n",
       "      <th>6</th>\n",
       "      <td>Chevrolet Cavalier</td>\n",
       "      <td>Front</td>\n",
       "      <td>26.0</td>\n",
       "      <td>Regular</td>\n",
       "      <td>15.2</td>\n",
       "      <td>181.0</td>\n",
       "      <td>104.0</td>\n",
       "      <td>68.0</td>\n",
       "      <td>38.0</td>\n",
       "      <td>2795</td>\n",
       "      <td>...</td>\n",
       "      <td>54.5</td>\n",
       "      <td>41.5</td>\n",
       "      <td>4.5</td>\n",
       "      <td>53.5</td>\n",
       "      <td>28.0</td>\n",
       "      <td>2.0</td>\n",
       "      <td>0</td>\n",
       "      <td>1</td>\n",
       "      <td>1</td>\n",
       "      <td>0</td>\n",
       "    </tr>\n",
       "    <tr>\n",
       "      <th>8</th>\n",
       "      <td>Chevrolet Lumina</td>\n",
       "      <td>Front</td>\n",
       "      <td>22.0</td>\n",
       "      <td>Regular</td>\n",
       "      <td>16.6</td>\n",
       "      <td>201.0</td>\n",
       "      <td>108.0</td>\n",
       "      <td>73.0</td>\n",
       "      <td>44.0</td>\n",
       "      <td>3350</td>\n",
       "      <td>...</td>\n",
       "      <td>58.5</td>\n",
       "      <td>42.5</td>\n",
       "      <td>4.5</td>\n",
       "      <td>57.0</td>\n",
       "      <td>30.0</td>\n",
       "      <td>2.0</td>\n",
       "      <td>0</td>\n",
       "      <td>1</td>\n",
       "      <td>1</td>\n",
       "      <td>0</td>\n",
       "    </tr>\n",
       "    <tr>\n",
       "      <th>9</th>\n",
       "      <td>Chevrolet Malibu</td>\n",
       "      <td>Front</td>\n",
       "      <td>24.0</td>\n",
       "      <td>Regular</td>\n",
       "      <td>15.2</td>\n",
       "      <td>190.0</td>\n",
       "      <td>107.0</td>\n",
       "      <td>69.0</td>\n",
       "      <td>40.0</td>\n",
       "      <td>3075</td>\n",
       "      <td>...</td>\n",
       "      <td>55.0</td>\n",
       "      <td>43.0</td>\n",
       "      <td>4.5</td>\n",
       "      <td>54.0</td>\n",
       "      <td>30.5</td>\n",
       "      <td>2.0</td>\n",
       "      <td>0</td>\n",
       "      <td>1</td>\n",
       "      <td>1</td>\n",
       "      <td>0</td>\n",
       "    </tr>\n",
       "  </tbody>\n",
       "</table>\n",
       "<p>5 rows × 22 columns</p>\n",
       "</div>"
      ],
      "text/plain": [
       "                 Name Drive Type  Mileage (mpg) Fuel Type  Capacity (gal)  \\\n",
       "0       Acura Integra      Front           31.0   Regular            13.2   \n",
       "2       Buick Century      Front           22.0   Regular            17.5   \n",
       "6  Chevrolet Cavalier      Front           26.0   Regular            15.2   \n",
       "8    Chevrolet Lumina      Front           22.0   Regular            16.6   \n",
       "9    Chevrolet Malibu      Front           24.0   Regular            15.2   \n",
       "\n",
       "   Length (inches)  Wheel Base (inches)  Width (inches)  \\\n",
       "0            172.0                101.0            67.0   \n",
       "2            195.0                109.0            73.0   \n",
       "6            181.0                104.0            68.0   \n",
       "8            201.0                108.0            73.0   \n",
       "9            190.0                107.0            69.0   \n",
       "\n",
       "   Turning Circle (feet)  Weight (lbs)  ...  Front Shoulder (inches)  \\\n",
       "0                   39.0          2635  ...                     51.5   \n",
       "2                   40.0          3350  ...                     58.0   \n",
       "6                   38.0          2795  ...                     54.5   \n",
       "8                   44.0          3350  ...                     58.5   \n",
       "9                   40.0          3075  ...                     55.0   \n",
       "\n",
       "   Front Leg Room (inches)  Front Head Room (inches)  Rear Shoulder (inches)  \\\n",
       "0                     41.5                       2.0                    46.5   \n",
       "2                     44.0                       5.0                    57.0   \n",
       "6                     41.5                       4.5                    53.5   \n",
       "8                     42.5                       4.5                    57.0   \n",
       "9                     43.0                       4.5                    54.0   \n",
       "\n",
       "   Rear Leg Room (inches)  Rear Head Room (inches)  Fuel Type_Premium  \\\n",
       "0                    25.0                      0.5                  0   \n",
       "2                    30.0                      2.0                  0   \n",
       "6                    28.0                      2.0                  0   \n",
       "8                    30.0                      2.0                  0   \n",
       "9                    30.5                      2.0                  0   \n",
       "\n",
       "   Fuel Type_Regular  Drive Type_Front  Drive Type_Rear  \n",
       "0                  1                 1                0  \n",
       "2                  1                 1                0  \n",
       "6                  1                 1                0  \n",
       "8                  1                 1                0  \n",
       "9                  1                 1                0  \n",
       "\n",
       "[5 rows x 22 columns]"
      ]
     },
     "execution_count": 37,
     "metadata": {},
     "output_type": "execute_result"
    }
   ],
   "source": [
    "Auto_sub = Auto.loc[(Auto['Fuel Type']=='Regular') & (Auto['Mileage (mpg)']> 21)]\n",
    "Auto_sub.head()"
   ]
  }
 ],
 "metadata": {
  "kernelspec": {
   "display_name": "Python 3",
   "language": "python",
   "name": "python3"
  },
  "language_info": {
   "codemirror_mode": {
    "name": "ipython",
    "version": 3
   },
   "file_extension": ".py",
   "mimetype": "text/x-python",
   "name": "python",
   "nbconvert_exporter": "python",
   "pygments_lexer": "ipython3",
   "version": "3.7.6"
  }
 },
 "nbformat": 4,
 "nbformat_minor": 4
}
